{
 "cells": [
  {
   "cell_type": "code",
   "execution_count": 5,
   "id": "96bd34bc-80e0-44c6-8720-3c02a6a67002",
   "metadata": {},
   "outputs": [],
   "source": [
    "%matplotlib inline\n",
    "import matplotlib\n",
    "import matplotlib.pyplot as plt\n",
    "import numpy as np\n",
    "import pandas as pd\n",
    "import os\n",
    "import sys\n",
    "import datetime\n",
    "import gc\n",
    "import warnings\n",
    "import time\n",
    "import csv\n",
    "warnings.filterwarnings('ignore')"
   ]
  },
  {
   "cell_type": "code",
   "execution_count": 6,
   "id": "4c0e71a2-1534-4d5d-b72c-4e28b12fe02a",
   "metadata": {},
   "outputs": [],
   "source": [
    "import util.theory\n",
    "import matplotlib.ticker as mticker\n",
    "import pylandau\n",
    "from pylandau import langau\n",
    "from importlib import reload\n",
    "from scipy.optimize import curve_fit, fsolve\n",
    "from scipy.integrate import quad\n",
    "theory = reload(util.theory)"
   ]
  },
  {
   "cell_type": "markdown",
   "id": "54afa3d1-fecb-48fe-bcbb-d2ca05fcf5a0",
   "metadata": {},
   "source": [
    "## Reading Data From CSV\n",
    "Automatically reads total energy and dedx data from the csv file to RAM as a numpy array. Also converts the total energies to kinetic energies, and filters out energies outside the Bethe regime (0.1, 100) GeV. "
   ]
  },
  {
   "cell_type": "code",
   "execution_count": 7,
   "id": "b13001ec-dc21-41ce-8e94-b76ef345d0f5",
   "metadata": {},
   "outputs": [],
   "source": [
    "def read_from_saved(name):\n",
    "    es, dedxs, pitches = [], [], []\n",
    "    path = r'./data/' + name\n",
    "    with open(path, 'r', newline='') as save:\n",
    "        reader = csv.reader(save)\n",
    "        es = [float(e) for e in next(reader)]\n",
    "        dedxs = [float(dedx) for dedx in next(reader)]\n",
    "        pitches = [float(pitch) for pitch in next(reader)]\n",
    "    print(f'reading from {path}.')\n",
    "    return np.array(es), np.array(dedxs), np.array(pitches)"
   ]
  },
  {
   "cell_type": "code",
   "execution_count": 8,
   "id": "dbf2077b-1402-4de2-8f2b-a7c832458905",
   "metadata": {},
   "outputs": [
    {
     "name": "stdout",
     "output_type": "stream",
     "text": [
      "reading from ./data/Analyzed_Data_Full.csv.\n"
     ]
    }
   ],
   "source": [
    "tot_es, unfiltered_dedxs, unfiltered_pitches = read_from_saved('Analyzed_Data_Full.csv')\n",
    "# %run Analyze.ipynb                             # Analyze the data from scratch"
   ]
  },
  {
   "cell_type": "code",
   "execution_count": null,
   "id": "d7492123-f0d0-467e-a457-f787092f0bd7",
   "metadata": {},
   "outputs": [],
   "source": [
    "rest_e = theory.Mmu\n",
    "bethe_min, bethe_max = 0.1, 100\n",
    "kinetic_es = tot_es - (rest_e/1000)\n",
    "bethe_regime = (kinetic_es > bethe_min) & (kinetic_es < bethe_max)\n",
    "low_pitch = unfiltered_pitches < 0.4 \n",
    "hi_pitch = unfiltered_pitches > 0.7\n",
    "\n",
    "es = kinetic_es[bethe_regime]\n",
    "dedxs = unfiltered_dedxs[bethe_regime]\n",
    "pitches = unfiltered_pitches[bethe_regime]"
   ]
  },
  {
   "cell_type": "code",
   "execution_count": null,
   "id": "de5ee4bf-94ec-495e-9549-dbf98e3466d4",
   "metadata": {},
   "outputs": [],
   "source": [
    "np.sum((unfiltered_pitches < 0.7) & (unfiltered_pitches > 0.4))"
   ]
  },
  {
   "cell_type": "markdown",
   "id": "a5dadb3b-27a1-405f-9efa-6aed95a7c733",
   "metadata": {},
   "source": [
    "## Fitting Landau + Gaussian\n",
    "The first is a general purpose function to plot the raw data."
   ]
  },
  {
   "cell_type": "code",
   "execution_count": null,
   "id": "ea602742-3aa1-4a67-826a-f81ff00fb6d8",
   "metadata": {
    "tags": []
   },
   "outputs": [],
   "source": [
    "def plot_raw():\n",
    "    plt.figure()\n",
    "    ax = plt.gca()\n",
    "    ax.set_xlabel('Muon Kinetic Energy (GeV)')\n",
    "    ax.set_ylabel('Energy Loss (MeV/cm)')\n",
    "    plt.plot(es, dedxs, '.')\n",
    "    \n",
    "# plot_raw()"
   ]
  },
  {
   "cell_type": "markdown",
   "id": "e3b04153-039a-43c4-83d6-c89eb025107c",
   "metadata": {},
   "source": [
    "Now we bin the data. We use 20 bins for now, each logarithmically spaced. Then we calculate the centers of these logarithmic bins and produce the 2D array, <code>binned_dedx</code>, which contains arrays of dedx values in each energy bin."
   ]
  },
  {
   "cell_type": "code",
   "execution_count": null,
   "id": "74e578ff-b308-4bfb-b34f-8278446739a9",
   "metadata": {},
   "outputs": [],
   "source": [
    "max_e = bethe_max # np.max(es)\n",
    "min_e = bethe_min # np.min(es)\n",
    "num_bins = 20\n",
    "\n",
    "def log_bin_data(num_bins):\n",
    "    bin_edges = np.logspace(np.log10(min_e), np.log10(max_e), num_bins+1)\n",
    "    bin_locs = np.digitize(es, bin_edges) - 1    # Shifts the indices (first bin = 0)\n",
    "\n",
    "    binned_dedx = [[] for i in range(num_bins)]\n",
    "    for i in range(len(bin_locs)):\n",
    "        b = bin_locs[i]\n",
    "        binned_dedx[b].append(dedxs[i])\n",
    "    \n",
    "    return bin_edges, binned_dedx"
   ]
  },
  {
   "cell_type": "markdown",
   "id": "a30f7b19-7ab0-43d7-b621-07820c0bdf6b",
   "metadata": {},
   "source": [
    "An alternative binning approach which bins the data such that the number of data points per bin is the same."
   ]
  },
  {
   "cell_type": "code",
   "execution_count": null,
   "id": "cd8848c8-7c9f-41dc-aaf2-3939f2816202",
   "metadata": {},
   "outputs": [],
   "source": [
    "def stat_bin_data(num_bins=10):\n",
    "    # Sort the data from lowest to highest true energy\n",
    "    sortidxs = np.argsort(es)\n",
    "    s_es = es[sortidxs]\n",
    "    s_dedxs = dedxs[sortidxs]\n",
    "    s_pitches = pitches[sortidxs]\n",
    "    \n",
    "    # Determine how many data points per bin plus any remainders\n",
    "    dp_per_bin = len(es) // num_bins\n",
    "    rem = len(es) % num_bins\n",
    "    \n",
    "    # Populate binned_dedx with array of dedx data for each bin\n",
    "    binned_dedx = []\n",
    "    binned_pitches = []\n",
    "    bin_edges = [s_es[0]]\n",
    "    start = 0\n",
    "    end = dp_per_bin\n",
    "    while end <= len(s_dedxs):\n",
    "        increment = dp_per_bin\n",
    "        if rem > 0:\n",
    "            end += 1\n",
    "            rem -= 1\n",
    "            \n",
    "        binned_dedx.append(s_dedxs[start:end])\n",
    "        binned_pitches.append(s_pitches[start:end])\n",
    "        bin_edges.append(s_es[end-1])\n",
    "        start = end\n",
    "        end += dp_per_bin\n",
    "        \n",
    "    return bin_edges, binned_dedx, binned_pitches"
   ]
  },
  {
   "cell_type": "code",
   "execution_count": null,
   "id": "78d36a3f-1c63-4191-9b9e-99bf6dbbb936",
   "metadata": {
    "tags": []
   },
   "outputs": [],
   "source": [
    "# bin_edges, binned_dedx = log_bin_data(num_bins)\n",
    "bin_edges, binned_dedx, binned_pitches = stat_bin_data(num_bins)\n",
    "e_bin_centers = [ 10**((np.log10(bin_edges[i+1]) + np.log10(bin_edges[i]))/2) for i in range(len(bin_edges)-1) ]"
   ]
  },
  {
   "cell_type": "markdown",
   "id": "12e26696-28a5-495d-9bd7-4ca72526f378",
   "metadata": {},
   "source": [
    "The following cells generate the Landau fits.  \n",
    "Becuase of how the langau function is written, small values for eta are not supported, therefore the x values must be scaled up by some arbitrary factor (sf). Here we choose a factor of 10000. By also scaling up the other arguments of the langau_fit function, the returned fit values are physically accurate.  \n",
    "It may be worthwhile to consider directly generating langau pdfs from area-normalized data, which is not what we do here (here we generate landau fits to the binned distribution, but I believe the fit parameters should be identical to the pdfs since the normalization should be a constant?)"
   ]
  },
  {
   "cell_type": "code",
   "execution_count": null,
   "id": "f326731c-3a68-4035-b85c-a67720b75d9d",
   "metadata": {},
   "outputs": [],
   "source": [
    "sf = 10000\n",
    "\n",
    "def langau_fit(dedxs, mpv, eta_L, sig_G, A):\n",
    "    return langau(dedxs*sf, mpv*sf, eta_L*sf, sig_G*sf, A)\n",
    "\n",
    "# The following lists are in the following order: mpv, eta_L, sigma_L, A\n",
    "low_lims = [0, 1/sf, 0, 0]\n",
    "up_lims = [5, 1, 1, 1e6]"
   ]
  },
  {
   "cell_type": "markdown",
   "id": "3262b798-17e7-4108-bf71-b33989c81562",
   "metadata": {},
   "source": [
    "This function bins the dedx data into 1000 linearly spaced bins. The number of data points in each bin is then counted and the function of this number over the dedx bins is fit to a langau. It also contains functionality for finding the mpv of the dedx raw data, which is not strictly necessary."
   ]
  },
  {
   "cell_type": "code",
   "execution_count": null,
   "id": "f61cb1f6-8bbf-434f-a826-98ff0a38f8de",
   "metadata": {},
   "outputs": [],
   "source": [
    "def generate_one_freq_vs_dedx(bd, num_bins):\n",
    "    landau_bins = np.linspace(0, max(bd), num_bins+1)\n",
    "    bin_locs = np.digitize(bd, landau_bins, right=True) - 1      # Shifts the indices (first bin = 0)\n",
    "    binned_counts = np.zeros(num_bins)\n",
    "\n",
    "    for b in bin_locs:\n",
    "        binned_counts[b] += 1\n",
    "    \n",
    "    dedx_bins = [ (landau_bins[j]+landau_bins[j+1])/2 for j in range(len(landau_bins)-1) ]        \n",
    "    return dedx_bins, binned_counts"
   ]
  },
  {
   "cell_type": "code",
   "execution_count": null,
   "id": "2a0b08ff-4f39-487c-a954-686a6491bcb6",
   "metadata": {},
   "outputs": [],
   "source": [
    "def generate_fit(xdata, ydata):\n",
    "    initial_guess = [2, 0.1, 0.1, max(ydata)]\n",
    "    popt_L, pcov_L = curve_fit(langau_fit, xdata, ydata, p0=initial_guess, bounds=(low_lims, up_lims))\n",
    "    \n",
    "    fit_x_L = np.linspace(0, 7, 1000)\n",
    "    fit_y_L = langau_fit(fit_x_L, *popt_L)\n",
    "    \n",
    "    return popt_L, fit_x_L, fit_y_L"
   ]
  },
  {
   "cell_type": "code",
   "execution_count": null,
   "id": "858af042-3513-439c-a3cc-7ec5eda02d1a",
   "metadata": {},
   "outputs": [],
   "source": [
    "num_dedx_bins = 1000"
   ]
  },
  {
   "cell_type": "code",
   "execution_count": null,
   "id": "c1fca66a-e23e-4e7c-940a-f79884553e03",
   "metadata": {},
   "outputs": [],
   "source": [
    "fit_data_dict = []\n",
    "for i in range(len(binned_dedx)):\n",
    "    bd = binned_dedx[i]\n",
    "    xdata, ydata = generate_one_freq_vs_dedx(bd, num_dedx_bins)\n",
    "    fit_params, xfit, yfit = generate_fit(xdata, ydata)\n",
    "    mpv, eta, sigma, A = fit_params\n",
    "    fit_data_dict.append({'mpv': mpv, 'eta': eta, 'sigma': sigma, 'A': A, 'e_min': bin_edges[i], 'e_max': bin_edges[i+1]}) \n",
    "\n",
    "fit_data = pd.DataFrame.from_dict(fit_data_dict)"
   ]
  },
  {
   "cell_type": "markdown",
   "id": "bdf99903-6eed-41cb-8930-e4a059c4075d",
   "metadata": {},
   "source": [
    "This cell forces the langau widths to be fixed. This may be equivalent to using an mpv-only approach, but I think it will make the likelihood smoother"
   ]
  },
  {
   "cell_type": "code",
   "execution_count": null,
   "id": "1019e937-2f1e-4514-b9eb-9c36e5d29a67",
   "metadata": {},
   "outputs": [],
   "source": [
    "display(fit_data)"
   ]
  },
  {
   "cell_type": "code",
   "execution_count": null,
   "id": "4afb3d5e-e117-49a6-aff6-7656f7e837f8",
   "metadata": {},
   "outputs": [],
   "source": [
    "fit_data.to_csv(r'./data/stat_highpitch_fit_data_full.csv', index=False, header=True)"
   ]
  },
  {
   "cell_type": "markdown",
   "id": "f5d682dc-aa55-46a6-97f0-f110285a0da7",
   "metadata": {},
   "source": [
    "The main work is done by <code>plot_freq_vs_dedx</code>. This whole batch of cells needs refactoring such that code execution through these functions is more linear, rather than each of these function doing separate things and needing to travel back and forth between them."
   ]
  },
  {
   "cell_type": "code",
   "execution_count": null,
   "id": "17fca7e0-7cef-450c-8ccc-5b3f78da7316",
   "metadata": {},
   "outputs": [],
   "source": [
    "def plot_one_freq_vs_dedx(i, dedx_bins, binned_counts):\n",
    "    fig = plt.figure(figsize=(5,4))\n",
    "    ax=plt.gca()\n",
    "    plt.plot(dedx_bins, binned_counts, 'o', label='data')\n",
    "    plt.xlabel(\"dE/dx (MeV/cm)\", fontsize=10, fontweight='bold')\n",
    "    plt.ylabel(\"Frequency\",fontsize=10, fontweight='bold')\n",
    "    plt.title(f\"Energy Loss Distribution for muon energies [{bin_edges[i]:.2f},{bin_edges[i+1]:.2f}]GeV\", fontsize=10, fontweight='bold')\n",
    "    ax.set_xlim(0,7)\n",
    "    return fig"
   ]
  },
  {
   "cell_type": "code",
   "execution_count": null,
   "id": "c4fb3adf-e034-4ca9-adcb-f097ec56f5f4",
   "metadata": {},
   "outputs": [],
   "source": [
    "def plot_fit(popt_L, xfit, yfit):\n",
    "    label=f'Landau + Gaussian Fit:\\nMPV={popt_L[0]:.2f}MeV/cm, \\n$\\eta$={popt_L[1]:.2f}, \\n$\\sigma$={popt_L[2]:.2f}, \\n$A$={popt_L[3]:.0f}'\n",
    "    plt.plot(xfit, yfit, label=label, ls='-')"
   ]
  },
  {
   "cell_type": "markdown",
   "id": "42c14086-2afd-4413-b5b9-a06e58cf0010",
   "metadata": {},
   "source": [
    "This is a deprecated function: the average of the fit does not exist."
   ]
  },
  {
   "cell_type": "code",
   "execution_count": null,
   "id": "4a66361d-e10c-45e3-a754-ba0ea80f3bc3",
   "metadata": {},
   "outputs": [],
   "source": [
    "def calculate_fit_av(mpv, eta, sigma, A):\n",
    "    \n",
    "    # There seems to be a mistake in the pylandau package. get_langau_pdf is not normalized,\n",
    "    # however all that is necessary is to multiply by a factor of eta, it seems.\n",
    "    def langau_pdf(x, m, e, s):\n",
    "        return x * pylandau.get_langau_pdf(x, m, e, s) * eta \n",
    "    \n",
    "    sol = quad(langau_pdf, -np.inf, np.inf, args=(mpv, eta, sigma), limit=1000)\n",
    "    \n",
    "    return sol[0]"
   ]
  },
  {
   "cell_type": "markdown",
   "id": "7a1627f1-ae16-4e38-b438-8a66365c0c9d",
   "metadata": {},
   "source": [
    "This is horrible code, don't look at it"
   ]
  },
  {
   "cell_type": "code",
   "execution_count": null,
   "id": "db43bf5c-b749-4092-975a-8c2818e0b461",
   "metadata": {},
   "outputs": [],
   "source": [
    "def plot_freq_vs_dedx(plot_specific = None, num_bins = 1000, show = True, savefile = None):\n",
    "    if plot_specific is None:\n",
    "        fit_mpvs, fit_avs = [], []\n",
    "        i = 0\n",
    "        for bd in binned_dedx:\n",
    "            xdata, ydata = generate_one_freq_vs_dedx(bd, num_bins)\n",
    "            fit_params, xfit, yfit = generate_fit(xdata, ydata)\n",
    "            fit_mpv = fit_params[0]\n",
    "            fit_av = calculate_fit_av(*fit_params)\n",
    "\n",
    "            if show:\n",
    "                fig = plot_one_freq_vs_dedx(i, xdata, ydata)\n",
    "                plot_fit(fit_params, xfit, yfit)\n",
    "                plt.legend()\n",
    "                plt.show()\n",
    "                if savefile is not None:\n",
    "                    fig.savefig(os.getcwd() + r'/plots/5-30/Landaus/Full_statbinned_Landau'+ str(i), bbox_inches = \"tight\")\n",
    "\n",
    "            fit_mpvs.append(fit_mpv)\n",
    "            fit_avs.append(fit_av)\n",
    "            i += 1\n",
    "    else: \n",
    "        bd = binned_dedx[plot_specific]\n",
    "        xdata, ydata = generate_one_freq_vs_dedx(bd, num_bins)\n",
    "        fit_params, xfit, yfit = generate_fit(xdata, ydata)\n",
    "        fit_mpv = fit_params[0]\n",
    "        fit_av = calculate_fit_av(*fit_params)\n",
    "\n",
    "        if show:\n",
    "            fig = plot_one_freq_vs_dedx(plot_specific, xdata, ydata)\n",
    "            plot_fit(fit_params, xfit, yfit)\n",
    "            plt.legend()\n",
    "            plt.show()\n",
    "            if savefile is not None:\n",
    "                fig.savefig(os.getcwd() + r'/'+ savefile, bbox_inches = \"tight\")\n",
    "\n",
    "        fit_mpvs = fit_mpv\n",
    "        fit_avs = fit_av\n",
    "\n",
    "    return fit_mpvs, fit_avs"
   ]
  },
  {
   "cell_type": "code",
   "execution_count": null,
   "id": "372cfa21-6609-4e57-9912-a9790b910a0b",
   "metadata": {
    "tags": []
   },
   "outputs": [],
   "source": [
    "mpvs, avs = plot_freq_vs_dedx(num_bins=num_dedx_bins, show=True, savefile=True)\n",
    "avs_data = []\n",
    "for b in binned_dedx:\n",
    "    avs_data.append(np.mean(b))"
   ]
  },
  {
   "cell_type": "markdown",
   "id": "d83d14d7-df06-45ff-974b-5c70b565b4fa",
   "metadata": {},
   "source": [
    "## Plotting and Checking Against Theory"
   ]
  },
  {
   "cell_type": "code",
   "execution_count": null,
   "id": "2f4f28eb-cf67-425d-aaca-7d9cc81fbb1c",
   "metadata": {},
   "outputs": [],
   "source": [
    "avs_c = 'r'\n",
    "mpvs_c = 'b'\n",
    "true_ls = '-'\n",
    "fit_ls = '--'\n",
    "data_m = '^'\n",
    "fit_m = 'o'"
   ]
  },
  {
   "cell_type": "code",
   "execution_count": null,
   "id": "53f8b636-ba7f-4785-b19d-1a50bade8ec8",
   "metadata": {},
   "outputs": [],
   "source": [
    "def savefig(fig, name):\n",
    "    date = datetime.datetime.now()\n",
    "    month_day = f'{date.month}-{date.day}/'\n",
    "    path = r'./plots/' + month_day + name\n",
    "    fig.savefig(path, bbox_inches='tight')"
   ]
  },
  {
   "cell_type": "code",
   "execution_count": null,
   "id": "ab72573e-c693-4c22-9f0b-45c4ea9cf8c5",
   "metadata": {
    "tags": []
   },
   "outputs": [],
   "source": [
    "def plot_dedx_vs_e_data(with_fit_av=False, data_av=True, fit_mpv=True):    \n",
    "    fig = plt.figure(figsize=(12,7))\n",
    "    ax = plt.gca()\n",
    "    if data_av:\n",
    "        label = '$-$<dE/dx> from data'\n",
    "        ax.errorbar(e_bin_centers, avs_data, label=label, color=avs_c, marker=data_m)\n",
    "    if with_fit_av:\n",
    "        label='$-$<dE/dx> from fit'\n",
    "        ax.errorbar(e_bin_centers, avs, label=label, color=avs_c, marker=fit_m)\n",
    "    if fit_mpv:\n",
    "        label='$\\Delta$p/dx from fits'\n",
    "        ax.errorbar(e_bin_centers, mpvs, label=label, color=mpvs_c, marker=fit_m)\n",
    "    ax.set_xscale('log')\n",
    "    ax.set_xlabel('Muon Kinetic Energy (GeV)')\n",
    "    ax.set_ylabel('Energy Loss (MeV/cm)')\n",
    "    ax.yaxis.set_minor_formatter(mticker.ScalarFormatter())\n",
    "    ax.xaxis.set_major_formatter(mticker.ScalarFormatter())\n",
    "    \n",
    "    return fig, ax"
   ]
  },
  {
   "cell_type": "code",
   "execution_count": null,
   "id": "0d88a633-e9c9-4c8e-b268-8b3895a90d12",
   "metadata": {},
   "outputs": [],
   "source": [
    "plt.style.use('./stylesheets/eloss.mplstyle')"
   ]
  },
  {
   "cell_type": "code",
   "execution_count": null,
   "id": "4d8b9871-c233-4d7d-9522-d12d4a5cfb4e",
   "metadata": {
    "tags": []
   },
   "outputs": [],
   "source": [
    "fit_es = np.logspace(np.log10(min_e), np.log10(max_e), 1000) # kinetic energy (GeV) xdata for the fits\n",
    "fit_es_mev = fit_es * 1000\n",
    "ke = fit_es_mev\n",
    "\n",
    "bethe_dedx = theory.dedx(ke, rest_e)                         # Standard Bethe curve, no fit\n",
    "bethe_dedx_no_delta = theory.dedx(ke, rest_e, dens=False)    # Same, but without density correction\n",
    "\n",
    "ke_bin_centers = np.asarray(e_bin_centers)*1000              # simulated kinetic energy (GeV) xdata converted to (MeV)"
   ]
  },
  {
   "cell_type": "code",
   "execution_count": null,
   "id": "896dbe83-5630-4bc9-8ffa-c54c89dba280",
   "metadata": {
    "tags": []
   },
   "outputs": [],
   "source": [
    "def av_fit(ke, fit_prefac, mee):\n",
    "    return fit_prefac * theory.dedx(ke, rest_e, I=mee*10**(-6))\n",
    "\n",
    "popt_av, pcov_av = curve_fit(av_fit, ke_bin_centers, avs_data, p0=(1, 188), bounds=((0.5, 100), (2, 300)))\n",
    "\n",
    "fit_av_dedxs = av_fit(ke, *popt_av)\n",
    "print(popt_av)"
   ]
  },
  {
   "cell_type": "code",
   "execution_count": null,
   "id": "afb8d4f3-3e99-4f62-a70c-5e0d5415d975",
   "metadata": {},
   "outputs": [],
   "source": [
    "def mpv_fit(ke, t, I=theory.I):\n",
    "    return theory.dpdx(ke, t, rest_e, I=I)\n",
    "    \n",
    "popt_mpv, pcov_mpv = curve_fit(mpv_fit, ke_bin_centers[1:], mpvs[1:], p0=2.5, bounds=(0,5))\n",
    "\n",
    "fit_mpv_dedxs = mpv_fit(ke, *popt_mpv)"
   ]
  },
  {
   "cell_type": "code",
   "execution_count": null,
   "id": "18c0f276-44d3-4cf2-8c67-8fe406449f38",
   "metadata": {},
   "outputs": [],
   "source": [
    "fig, ax = plot_dedx_vs_e_data()\n",
    "\n",
    "ax.yaxis.set_minor_formatter(mticker.ScalarFormatter())\n",
    "ax.xaxis.set_major_formatter(mticker.ScalarFormatter())\n",
    "ax.set_yscale('linear')\n",
    "\n",
    "ax.plot(fit_es, bethe_dedx, label='Pure Bethe w/ $\\delta$', color=avs_c, linestyle=true_ls)\n",
    "# ax.plot(fit_es, fit_av_dedxs, label=f'E Loss Fit. \\n fit params: A, I', color=avs_c, ls=fit_ls)\n",
    "ax.plot(fit_es, fit_mpv_dedxs, label=f'MPV fit with \\n fit param: x={popt_mpv[0]:.2f}cm', color=mpvs_c, ls=fit_ls)\n",
    "ax.set_title(\"Simulated $\\mu$ Energy Loss in Liquid Argon\")\n",
    "ax.legend()\n",
    "fig.show()"
   ]
  },
  {
   "cell_type": "markdown",
   "id": "8664dde3-11ff-46a9-a2b1-64d30e66659e",
   "metadata": {
    "tags": []
   },
   "source": [
    "### Notes\n",
    "The MPV data is much better fit to the theoretical curve than the average value data. The one parameter fit is, from a purely visual standpoint, much better than even the two parameter fit of the Bethe equation. Furthermore the two parameter fit of the Bethe equation indicates physically unreasonable values of the mean excitation energy and the prefacor multiplying the equation, both of which have been independently dertermined by experiment to differ significantly. Some potential fixes to the average value data are presented above, although I am not confiedent they will prove to fix the disagreement entirely.\n",
    "- The data for the average energy loss is almost entirely lower than the expected energy loss according to the Bethe equation. This may suggest that there is some sort of confounding data that is not selected out during the selection cuts. Or perhaps even that the selection cuts are too stringent, and are removing too many high-energy loss events, pulling the average down at these higher energies.\n",
    "- The MPV data can be improved by performing a fit to each of the Landau distributed energy losses per energy bin and finding the maximum according to that fit. \n",
    "    - I am not certain about using a least-squares fit on the Landau data, just because there are so many data points that do not contribute to the principal peak we are concerned with. I will test this when I can.he \n",
    "- To better fit the Bethe curve I could also calculate the average of the Landau distribution in the fits, although I believe the Landau pdf diverges, so the mean is undefined. I think this is also reason to suspect that the mean of a Landau distributed set of random variables will never converge, indeed, it tends to grow without bound with the sample size: https://drupal.star.bnl.gov/STAR/blog/lisa/mean-landau-distribution-undefined.\n",
    "- Need to continue working on obtaining the average dedx from the fit Landaus, rather than continuing to use the raw data.\n",
    "    - I am not certain how well this works in principal. Treating the Landau distribution as a pdf $f_L(x)$ and performing the integral to find the expectation value\n",
    "    $$\\langle x\\rangle=\\int^\\infty_{-\\infty} xf_L(x)dx$$\n",
    "    gives entirely different results from computing the average via Bethe-Bloch equation (shown above). I do not know why.\n",
    "    - Furthermore, the data points that result from this numerical integration to find the average value are also highly variable, which is probably due to the rather significant integration error associated with the numerical caluclation of this integral.\n",
    "- The average value plot in the fitted case also does not follow the trend of the graph of the Bethe-Bloch curve. Instead, it appears to flatten out at high energies, which makes me think there might be an energy cutoff at play here. The effects of such a cutoff are outlined in chrome-extension://efaidnbmnnnibpcajpcglclefindmkaj/viewer.html?pdfurl=https%3A%2F%2Fpdg.lbl.gov%2F2019%2Freviews%2Frpp2018-rev-passage-particles-matter.pdf&clen=2912706&chunk=true, section 33.2.8."
   ]
  },
  {
   "cell_type": "markdown",
   "id": "f816bf90-2777-44d7-81ef-fc87bc1a2ea6",
   "metadata": {
    "tags": []
   },
   "source": [
    "## MPV Residuals"
   ]
  },
  {
   "cell_type": "code",
   "execution_count": null,
   "id": "24a16582-3ef3-4a5a-9151-d3a5965084ca",
   "metadata": {},
   "outputs": [],
   "source": [
    "dp_cutoff = 0\n",
    "expected_mpvs = np.array([ mpv_fit(x*1000, *popt_mpv) for x in e_bin_centers[dp_cutoff:] ])\n",
    "zeros = np.zeros(len(e_bin_centers[dp_cutoff:]))\n",
    "\n",
    "fig = plt.figure(figsize=(9,7))\n",
    "ax = plt.gca()\n",
    "ax.errorbar(e_bin_centers[dp_cutoff:], np.array(mpvs[dp_cutoff:])-expected_mpvs, fmt='o', label='$\\Delta$p/dx residuals from fits', color = 'b')\n",
    "ax.plot(e_bin_centers[dp_cutoff:], zeros, color=\"b\", ls='--')\n",
    "ax.legend()\n",
    "ax.set_xscale('log')\n",
    "ax.set_yscale('linear')\n",
    "ax.set_xlabel('Muon Energy (GeV)')\n",
    "ax.set_ylabel('Energy Loss (MeV/cm)')\n",
    "plt.title(\"Most Probable Energy Loss Residuals\")\n",
    "fig.show()"
   ]
  },
  {
   "cell_type": "markdown",
   "id": "6f4a5b88-d909-44b5-aaa8-29e81f77fd66",
   "metadata": {},
   "source": [
    "## MPV Bounds"
   ]
  },
  {
   "cell_type": "code",
   "execution_count": null,
   "id": "6ea9e33f-9e2d-41f5-b289-33eb30d7347a",
   "metadata": {},
   "outputs": [],
   "source": [
    "min_pitch = 0.3 # min_pitch of 1 fits well, see note below\n",
    "max_pitch = min_pitch/np.cos(70*np.pi/180) # 70 degrees maximum pitch\n",
    "uplim_mpvs = [ mpv_fit(x*1000, max_pitch) for x in fit_es ]\n",
    "lolim_mpvs = [ mpv_fit(x*1000, min_pitch) for x in fit_es ]\n",
    "\n",
    "fig, ax = plot_dedx_vs_e_data(data_av=False)\n",
    "ax.set_yscale('linear')\n",
    "\n",
    "ax.plot(fit_es, uplim_mpvs, ls='-', color='b', label=f'Pure $\\Delta$p/dx for x={max_pitch:.2f}cm')\n",
    "ax.plot(fit_es, lolim_mpvs, ls='-.', color='b', label=f'Pure $\\Delta$p/dx for x={min_pitch:.2f}cm')\n",
    "ax.fill_between(fit_es, lolim_mpvs, uplim_mpvs, color='b', alpha=0.05)\n",
    "\n",
    "ax.set_title(\"Simulated $\\mu$ Energy Loss in Liquid Argon\")\n",
    "ax.legend()\n",
    "fig.show()"
   ]
  },
  {
   "cell_type": "code",
   "execution_count": null,
   "id": "b045588a-a890-4ac2-9793-4b2aa22871dd",
   "metadata": {},
   "outputs": [],
   "source": [
    "avlim_mpvs = [ mpv_fit(x*1000, 0.517) for x in e_bin_centers ]\n",
    "print(np.mean((np.array(mpvs)-np.array(avlim_mpvs))/np.array(avlim_mpvs))*100)"
   ]
  },
  {
   "cell_type": "code",
   "execution_count": null,
   "id": "821e3983-2f66-43f1-81bf-e0c6f7e8a590",
   "metadata": {},
   "outputs": [],
   "source": [
    "# I'm gonna divide up each binned_dedx into pitches by making the statistics in each pitch bin in the \n",
    "# 9th distribution equal. Hopefully this produces roughly equal statistics in the other distributions\n",
    "num_bpd = 5\n",
    "stat_bin_idx = 9\n",
    "stat_d = binned_dedx[stat_bin_idx]\n",
    "stat_p = binned_pitches[stat_bin_idx]\n",
    "testsort = np.argsort(stat_p)\n",
    "s_stat_d = stat_d[testsort]\n",
    "s_stat_p = stat_p[testsort]\n",
    "k, m = divmod(len(stat_p), num_bpd)\n",
    "pitch_edges = [0.3] + [s_stat_p[(i+1)*k+min(i, m-1)] for i in range(num_bpd)]\n",
    "pitch_edges[-1] = max_pitch\n",
    "pitch_edges = np.array(pitch_edges)\n",
    "pitch_avs = (pitch_edges[1:] + pitch_edges[:-1]) / 2"
   ]
  },
  {
   "cell_type": "code",
   "execution_count": null,
   "id": "dff8c578-e0da-41e6-9a18-a28d7815a2c8",
   "metadata": {},
   "outputs": [],
   "source": [
    "bp_mpvs = []\n",
    "binned_dedxs_p_e = []\n",
    "print(\"Data points per pitch bin:\")\n",
    "for bd, bp in zip(binned_dedx, binned_pitches):\n",
    "    binlocs = np.digitize(bp, pitch_edges)-1\n",
    "    \n",
    "    bpds = [[] for i in range(num_bpd)]\n",
    "    for i in range(len(binlocs)):\n",
    "        b = binlocs[i]\n",
    "        bpds[b].append(bd[i])\n",
    "        \n",
    "    print(min(len(bpd) for bpd in bpds))\n",
    "    \n",
    "    this_e_mpvs = []\n",
    "    for bpd in bpds:\n",
    "        xdata, ydata = generate_one_freq_vs_dedx(bpd, num_dedx_bins)\n",
    "        fit_params = generate_fit(xdata, ydata)[0]\n",
    "        mpv = fit_params[0]\n",
    "        this_e_mpvs.append(mpv)\n",
    "    \n",
    "    binned_dedxs_p_e.append(bpds)\n",
    "    bp_mpvs.append(this_e_mpvs)"
   ]
  },
  {
   "cell_type": "code",
   "execution_count": null,
   "id": "cab2d816-d5f1-4c34-a0f8-cd0615647f17",
   "metadata": {},
   "outputs": [],
   "source": [
    "binned_dedxs_p_e = np.array(binned_dedxs_p_e)\n",
    "print(binned_dedxs_p_e.shape)"
   ]
  },
  {
   "cell_type": "code",
   "execution_count": null,
   "id": "b2170b3b-8f5c-4a66-a44a-8d2429a0b810",
   "metadata": {},
   "outputs": [],
   "source": [
    "mpvs_per_pitch=list(zip(*bp_mpvs))\n",
    "\n",
    "fig, ax = plot_dedx_vs_e_data(with_fit_av=False, data_av=False, fit_mpv=False)\n",
    "\n",
    "for mpvs_i, i in zip(mpvs_per_pitch, range(len(pitch_edges))):\n",
    "    ax.errorbar(e_bin_centers, mpvs_i, fmt='o', label=f'Pitch=[{pitch_edges[i]:.3f}, {pitch_edges[i+1]:.3f}]cm')\n",
    "    \n",
    "ax.plot(fit_es, uplim_mpvs, ls='-', color='b', label=f'Pure $\\Delta$p/dx for x={max_pitch:.2f}cm')\n",
    "ax.plot(fit_es, lolim_mpvs, ls='-.', color='b', label=f'Pure $\\Delta$p/dx for x={min_pitch:.2f}cm')\n",
    "ax.fill_between(fit_es, lolim_mpvs, uplim_mpvs, color='b', alpha=0.05)\n",
    "ax.legend(loc='upper left')\n",
    "fig.show()"
   ]
  },
  {
   "cell_type": "markdown",
   "id": "aaa326d5-72e2-48d2-b7d2-cb3f079e4c60",
   "metadata": {},
   "source": [
    "Perhaps it is the case that the minimum pitch is normalized to 1. Thus, pitch is *just* $\\frac{1}{\\cos(\\theta)}$, i.e. pitch is unitless. The problem with this is that I have checked the pitches for the raw data, and the minimum pitch definitely goes below 1, and it is very close to 0.3cm exactly. Furthermore, I have generated a raw ROOT histogram of the data for a Langau distribution, and found that the MPV agrees almost exactly with my calculated MPVs. Therefore, one of the following must be a cause of this discrepancy:\n",
    "- There is some bias introduced when performing the selection cuts that I do. This is unlikeliy, because even without the selection cuts applied to the ROOT histogram, the most probable bin remains the same.\n",
    "- The dedx listed in the .root file have a different definition from what we expect. dedx may purely represent the energy deposited onto the wire in the wire plane, regardless of the pitch of the plane. The resoning for this is that, in the data, high pitch events correspond to very low dedx values, meaning that there is some dependence of dedx on pitch. I am not certain what to make of this, need to think about it more.\n",
    "    - Multiplying dedx_y by pitch_y leads to a ROOT histogram which is much more uniformly Langau-shaped (gets rid of the low-dedx peak). This may have something to do with the issue i.e. there is some nuance with the dedx calculation or some difference between the dedx definition I use here and the dedx present in the simulation.\n",
    "    - Look into whether azimuthal angle is included in the definition of the pitch, or whether the angle used to caculate pitch is purely the polar angle with respect to the collection plane. If this is not currently accounted for, it could explain an the increase of the thickness parameter compared to expectation.\n",
    "- There is some problem with the theoretical model of the mpv. Perhaps the thickness parameter means something different than we expect, or maybe the 0.3cm spacing is baked in there somehow.\n",
    "- There is some problem with the simulation. This is highly unlikely, but I just state it for completeness."
   ]
  },
  {
   "cell_type": "code",
   "execution_count": null,
   "id": "ac64e74c-caf2-4bfd-a806-113c1c61befd",
   "metadata": {},
   "outputs": [],
   "source": [
    "from matplotlib.colors import LogNorm\n",
    "e_bin_num = 10\n",
    "hist, xedges, yedges, _ = plt.hist2d(binned_dedx[e_bin_num], binned_pitches[e_bin_num], bins=[500, 10], norm=LogNorm(), cmap='gist_heat_r')\n",
    "plt.colorbar()\n",
    "plt.xlabel('Energy loss (MeV/cm)')\n",
    "plt.ylabel('Pitch (cm)')\n",
    "plt.xlim(0,10)\n",
    "plt.title\n",
    "plt.show()"
   ]
  },
  {
   "cell_type": "code",
   "execution_count": null,
   "id": "3446f709-be34-4e12-8037-9faf8994453a",
   "metadata": {},
   "outputs": [],
   "source": [
    "mpvs_p_e = []\n",
    "pitch_centers = (yedges[1:] + yedges[:-1])/2\n",
    "dedx_centers = (xedges[1:] + xedges[:-1])/2\n",
    "for dedx in hist.T:\n",
    "    fit_params = generate_fit(dedx_centers, dedx)[0]\n",
    "    mpvs_p_e.append(fit_params[0])"
   ]
  },
  {
   "cell_type": "code",
   "execution_count": null,
   "id": "9c842756-6474-4e1d-b59c-e687c551d187",
   "metadata": {},
   "outputs": [],
   "source": [
    "plt.figure(figsize=(7,5))\n",
    "plt.errorbar(pitch_centers, mpvs_p_e, fmt='o')\n",
    "plt.xlabel('pitch')\n",
    "plt.ylabel('energy loss')\n",
    "plt.title(r'MPV dedx vs. pitch for true $E\\in[]$')\n",
    "plt.show()"
   ]
  },
  {
   "cell_type": "markdown",
   "id": "9b207e9f-5249-411e-8de8-b189ed57171d",
   "metadata": {},
   "source": [
    "- Vertical slices, plot dedx as a function of pitch for a few energy bins"
   ]
  },
  {
   "cell_type": "markdown",
   "id": "36af592f-986b-421d-b16b-3a72313447cf",
   "metadata": {},
   "source": [
    "## Restricted Average Energy Loss"
   ]
  },
  {
   "cell_type": "code",
   "execution_count": null,
   "id": "1e28df01-68ee-450b-8b9c-f28b4659a3bc",
   "metadata": {},
   "outputs": [],
   "source": [
    "def av_R0_fit(ke, wcut, prefac, mee):\n",
    "    return theory.dedx_R(ke, rest_e, wcut, K=prefac, I=mee*10**(-6))\n",
    "popt_av_R0, pcov_av_R0 = curve_fit(av_R0_fit, ke_bin_centers, avs_data, p0=(10, theory.K, 188), maxfev=10000) #bounds=((0,0.2,186*10**(-6)),(100,4,190*10**(-6))),maxfev=10000)\n",
    "\n",
    "\n",
    "def av_R1_fit(ke, wcut):\n",
    "    return theory.dedx_R(ke, rest_e, wcut)\n",
    "popt_av_R1, pcov_av_R1 = curve_fit(av_R1_fit, ke_bin_centers, avs_data, p0=(0.1), maxfev=10000)\n",
    "\n",
    "\n",
    "def av_R2_fit(ke, wcut, a, b):\n",
    "    return theory.dedx_R(ke + a, rest_e, wcut) + b\n",
    "# popt_av_R2, pcov_av_R2 = curve_fit(av_R2_fit, ke_bin_centers, avs_data, p0=(0.1, 10, 1), maxfev=10000)\n",
    "\n",
    "\n",
    "fit_av_R0_dedxs = av_R0_fit(ke, *popt_av_R0)\n",
    "fit_av_R1_dedxs = av_R1_fit(ke, *popt_av_R1)\n",
    "# fit_av_R2_dedxs = av_R2_fit(ke, *popt_av_R2)"
   ]
  },
  {
   "cell_type": "code",
   "execution_count": null,
   "id": "36840e65-701b-4f0e-a7e6-eca5f2329839",
   "metadata": {},
   "outputs": [],
   "source": [
    "fig, ax = plot_dedx_vs_e_data(fit_mpv=False) \n",
    "\n",
    "ax.plot(fit_es, fit_av_R0_dedxs, label=f'Wcut, K, I fit. Fit params: \\nWcut={popt_av_R0[0]:.2f}MeV \\nK={popt_av_R0[1]:.2f}MeV cm$^2$ / mol, \\nI={popt_av_R0[2]:.2f}eV\\n', color=avs_c, ls='--')\n",
    "ax.plot(fit_es, fit_av_R1_dedxs, label=f'Wcut fit. Fit param: \\nWcut={popt_av_R1[0]:.2f}MeV\\n', color=avs_c, ls='-.')\n",
    "# ax.plot(fit_es[50:], fit_av_R2_dedxs[50:], label=f'Wcut + Translation Fit. Fit params: \\nWcut={popt_av_R2[0]:.2f}MeV, \\na={popt_av_R2[1]:.2f}, \\nb={popt_av_R2[2]:.2f}\\n', color=avs_c, ls=':')\n",
    "ax.set_title(\"Restricted Average Energy Loss Fits to Data\")\n",
    "ax.legend()"
   ]
  },
  {
   "cell_type": "code",
   "execution_count": null,
   "id": "73b05009-9a2a-4855-98e1-1bae03952b3e",
   "metadata": {},
   "outputs": [],
   "source": [
    "fig, ax = plot_dedx_vs_e_data(fit_mpv=False)\n",
    "\n",
    "min_wcut = 0.1\n",
    "max_wcut = 50\n",
    "num_plotted = 7\n",
    "wcuts = np.logspace(np.log10(min_wcut), np.log10(max_wcut), num_plotted)\n",
    "for wcut in wcuts:\n",
    "    av_dedxs_R = theory.dedx_R(ke, rest_e, wcut)\n",
    "    label=f'Wcut={wcut:.2f}MeV'\n",
    "    ax.plot(fit_es, av_dedxs_R, label=label, ls=fit_ls)\n",
    "\n",
    "ax.plot(fit_es, bethe_dedx, label='Pure Bethe w/ $\\delta$', color=avs_c, linestyle=true_ls)\n",
    "ax.set_title(\"Restricted Average Energy Loss for Different Wcut Values\")\n",
    "ax.legend()\n",
    "ax.set_ylim(1.6, 3.1)\n",
    "fig.show()"
   ]
  },
  {
   "cell_type": "markdown",
   "id": "4647dcb1-723b-4752-8333-a39df760a029",
   "metadata": {
    "tags": []
   },
   "source": [
    "### Notes on Restricted Average Energy Loss\n",
    "The equation for modelling the restricted average energy loss is differs somewhat from the data. This difference was present in the Bethe equation fit, but it was just less apparent than the deviations at the high end.\n",
    "- It may be the case that I am not selecting out high energy outlier events correctly from the data. This might bring up the average energy loss much higher above where it should be, so I will need to check the data more thouroughly to see if there are any such confounding events to get rid of.\n",
    "- Another consideration is that the location of the minimum ionization value differs in the wcut fits from the data. The location of the minimum varies very little with wcut, so this suggests there is some other problem with the data. I have already subtracted off the rest energy of the muon, so in theory we shold be working with solely the muon kinetic energy here, but there may be something I missed. It might also be the case that the backtracked energy of the simulated muons is already the kinetic energy, but I believe this would shift the minimum location the other way, which is not good."
   ]
  },
  {
   "cell_type": "code",
   "execution_count": null,
   "id": "9feac7e8-3084-4622-903c-a3287f5e6f67",
   "metadata": {},
   "outputs": [],
   "source": []
  }
 ],
 "metadata": {
  "kernelspec": {
   "display_name": "Python 3",
   "language": "python",
   "name": "python3"
  },
  "language_info": {
   "codemirror_mode": {
    "name": "ipython",
    "version": 3
   },
   "file_extension": ".py",
   "mimetype": "text/x-python",
   "name": "python",
   "nbconvert_exporter": "python",
   "pygments_lexer": "ipython3",
   "version": "3.6.9"
  }
 },
 "nbformat": 4,
 "nbformat_minor": 5
}
