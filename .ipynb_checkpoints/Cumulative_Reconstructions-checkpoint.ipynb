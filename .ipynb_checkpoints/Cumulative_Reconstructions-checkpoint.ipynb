{
 "cells": [
  {
   "cell_type": "code",
   "execution_count": 1,
   "id": "b30300b5-8c0c-4303-960b-876c96f0d6fc",
   "metadata": {},
   "outputs": [],
   "source": [
    "%matplotlib inline\n",
    "from util.cer_util import CER\n",
    "import pandas as pd\n",
    "import numpy as np\n",
    "import matplotlib.pyplot as plt\n",
    "import pickle\n",
    "import datetime\n",
    "plt.style.use(r'./stylesheets/eloss.mplstyle')"
   ]
  },
  {
   "cell_type": "markdown",
   "id": "d0f69e29-ef9b-49c2-84c1-0b630d103a1c",
   "metadata": {},
   "source": [
    "Need to define <code>rec_key</code> to be for the reconstruction with the same parameters as those passed into the CER constructor here. This is a problem that needs refactoring in the future. Even with this, check that the energies of the reconstructed muons is equal to the energies of muons in <code>cer.muons</code>. (Due to updates to the selection cuts, this fails for the base reconstructions)."
   ]
  },
  {
   "cell_type": "code",
   "execution_count": 2,
   "id": "eec129e1-1b8a-4114-bd59-d7de787bd5d3",
   "metadata": {},
   "outputs": [
    {
     "name": "stdout",
     "output_type": "stream",
     "text": [
      "Loading Data...\n",
      "Loaded!\n",
      "Slimming...\n",
      "Will remove 6997 particles\n"
     ]
    }
   ],
   "source": [
    "rec_key = 'narrow'\n",
    "cer = CER(e_lims=(1,10))\n",
    "cer.load_muons()"
   ]
  },
  {
   "cell_type": "code",
   "execution_count": 3,
   "id": "7da81d76-683b-47d6-b5cd-f75f154a981a",
   "metadata": {},
   "outputs": [
    {
     "name": "stdout",
     "output_type": "stream",
     "text": [
      "False\n"
     ]
    }
   ],
   "source": [
    "# Test that the loaded muons are identical to the reconstructed muons\n",
    "print((cer.muons.backtracked_e - cer.rest_e).to_list() == pd.read_csv(cer.reconstructions[rec_key]).truth.to_list)"
   ]
  },
  {
   "cell_type": "code",
   "execution_count": 4,
   "id": "93f1311c-3078-451f-9359-eb84baeabebb",
   "metadata": {},
   "outputs": [
    {
     "name": "stdout",
     "output_type": "stream",
     "text": [
      "4.224853533685291e-07\n"
     ]
    }
   ],
   "source": [
    "print(np.abs(pd.read_csv(cer.reconstructions[rec_key]).truth - (cer.muons.backtracked_e - cer.rest_e)).max())"
   ]
  },
  {
   "cell_type": "markdown",
   "id": "3776c7f0-1ae7-4ee8-8716-3c0c2e5e0bb2",
   "metadata": {},
   "source": [
    "For some reason, there is a slight deviation in the true energy tracked by <code>cer.muons</code> and the true energy written to the csv in the narrow energy case. Don't know why this is, but the difference is negligible anyway."
   ]
  },
  {
   "cell_type": "code",
   "execution_count": 5,
   "id": "8f02ab8f-c359-4514-b05c-46976477bc21",
   "metadata": {},
   "outputs": [],
   "source": [
    "def savefig(fig, name):\n",
    "    date = datetime.datetime.now()\n",
    "    month_day = f'{date.month}-{date.day}/'\n",
    "    path = r'./plots/' + month_day + name\n",
    "    fig.savefig(path, bbox_inches='tight')\n",
    "    print(f'Saved to {path}')"
   ]
  },
  {
   "cell_type": "code",
   "execution_count": 6,
   "id": "b637f6ac-c0f4-4695-ab1b-6a50d7d70223",
   "metadata": {},
   "outputs": [],
   "source": [
    "def plot_cum_reconstruction(rec_key, mu_idx):\n",
    "    fit_data = pd.read_csv(cer.fits[rec_key])\n",
    "    dedxs = cer.generate_eloss(mu_idx)[1]\n",
    "    loglike, dedxs = cer.cum_binned_like(dedxs, rec_key)\n",
    "    cum_maxs = np.argmax(loglike, axis=0)\n",
    "    \n",
    "    true_e = cer.muons.backtracked_e[mu_idx] - cer.rest_e\n",
    "    correct_bin = np.digitize(true_e, [0.1] + fit_data['e_max'].to_list()) - 1\n",
    "    rec_bin = cum_maxs[-1]\n",
    "\n",
    "    fig = plt.figure()\n",
    "    lax = fig.gca()\n",
    "    line, = lax.plot(cum_maxs, ls='-', c='b')\n",
    "    lax.set_ylabel('reconstruction bin', color='b')\n",
    "    lax.set_xlabel('datapoint index along track')\n",
    "    lax.grid(visible=True, axis='y', color='b', alpha=0.2)\n",
    "\n",
    "    rax = lax.twinx()\n",
    "    scat, = rax.plot(dedxs, marker='.', c='r')\n",
    "    rax.set_ylabel('dedx (MeV/cm)', color='r')\n",
    "    rax.grid(visible=True, axis='y', color='r', linestyle=':', alpha=0.3)\n",
    "    \n",
    "    mu_status = 'Bad'\n",
    "    if rec_bin==correct_bin:\n",
    "        mu_status = 'Good'\n",
    "    \n",
    "    lax.legend([line, scat], \n",
    "               [f\"Cumulative Reconstruction\", f'dE/dx data'],\n",
    "               loc='upper center', bbox_to_anchor=(0.5, 1.27), shadow=True, framealpha=1, \n",
    "               title=f'{mu_status} Muon (index {mu_idx}), {rec_key} reconstruction\\nTrue Muon Energy = {true_e:.2f} GeV (bin {correct_bin})\\nReconstructed = ({fit_data.e_min[rec_bin]:.2f}, {fit_data.e_max[rec_bin]:.2f}) GeV (bin {rec_bin})')\n",
    "    return fig"
   ]
  },
  {
   "cell_type": "code",
   "execution_count": 7,
   "id": "9e7f38cf-662c-4e26-8788-5fe63ef79ff9",
   "metadata": {},
   "outputs": [],
   "source": [
    "rec_data = pd.read_csv(cer.reconstructions[rec_key])\n",
    "correctly_reconstructed = ((rec_data.reconstructed_min < rec_data.truth) & (rec_data.truth < rec_data.reconstructed_max))\n",
    "good_mu_idxs = rec_data[correctly_reconstructed].index\n",
    "bad_mu_idxs = rec_data[~correctly_reconstructed].index"
   ]
  },
  {
   "cell_type": "code",
   "execution_count": 11,
   "id": "4798e7cf-94ce-4d83-b87e-2773d5ee9f68",
   "metadata": {},
   "outputs": [
    {
     "name": "stdout",
     "output_type": "stream",
     "text": [
      "Saved to ./plots/8-8/narrow_cumulative_reconstruction_muon_2663.png\n",
      "Saved to ./plots/8-8/narrow_cumulative_reconstruction_muon_1524.png\n",
      "Saved to ./plots/8-8/narrow_cumulative_reconstruction_muon_747.png\n",
      "Saved to ./plots/8-8/narrow_cumulative_reconstruction_muon_2272.png\n",
      "Saved to ./plots/8-8/narrow_cumulative_reconstruction_muon_1284.png\n",
      "Saved to ./plots/8-8/narrow_cumulative_reconstruction_muon_1576.png\n",
      "Saved to ./plots/8-8/narrow_cumulative_reconstruction_muon_1794.png\n",
      "Saved to ./plots/8-8/narrow_cumulative_reconstruction_muon_372.png\n",
      "Saved to ./plots/8-8/narrow_cumulative_reconstruction_muon_691.png\n",
      "Saved to ./plots/8-8/narrow_cumulative_reconstruction_muon_2220.png\n",
      "Saved to ./plots/8-8/narrow_cumulative_reconstruction_muon_1891.png\n",
      "Saved to ./plots/8-8/narrow_cumulative_reconstruction_muon_503.png\n",
      "Saved to ./plots/8-8/narrow_cumulative_reconstruction_muon_2628.png\n",
      "Saved to ./plots/8-8/narrow_cumulative_reconstruction_muon_1157.png\n",
      "Saved to ./plots/8-8/narrow_cumulative_reconstruction_muon_2039.png\n",
      "Saved to ./plots/8-8/narrow_cumulative_reconstruction_muon_1862.png\n",
      "Saved to ./plots/8-8/narrow_cumulative_reconstruction_muon_917.png\n",
      "Saved to ./plots/8-8/narrow_cumulative_reconstruction_muon_2097.png\n",
      "Saved to ./plots/8-8/narrow_cumulative_reconstruction_muon_728.png\n",
      "Saved to ./plots/8-8/narrow_cumulative_reconstruction_muon_963.png\n",
      "Saved to ./plots/8-8/narrow_cumulative_reconstruction_muon_243.png\n",
      "Saved to ./plots/8-8/narrow_cumulative_reconstruction_muon_2463.png\n",
      "Saved to ./plots/8-8/narrow_cumulative_reconstruction_muon_2519.png\n",
      "Saved to ./plots/8-8/narrow_cumulative_reconstruction_muon_1345.png\n",
      "Saved to ./plots/8-8/narrow_cumulative_reconstruction_muon_2233.png\n",
      "Saved to ./plots/8-8/narrow_cumulative_reconstruction_muon_126.png\n"
     ]
    },
    {
     "name": "stderr",
     "output_type": "stream",
     "text": [
      "/mnt/c/Users/Sam Crossley/Documents/Research/Cosmic_Muon_CER/util/cer_util.py:193: RuntimeWarning: divide by zero encountered in log\n",
      "  loglike = np.array([ summate([ np.log(langau_pdf(xi, *fj_params)) - np.log(np.sum([ langau_pdf(xi, *fk_params) for fk_params in landau_params])) for xi in dedxs ]) for fj_params in landau_params ])\n",
      "/mnt/c/Users/Sam Crossley/Documents/Research/Cosmic_Muon_CER/util/cer_util.py:193: RuntimeWarning: invalid value encountered in double_scalars\n",
      "  loglike = np.array([ summate([ np.log(langau_pdf(xi, *fj_params)) - np.log(np.sum([ langau_pdf(xi, *fk_params) for fk_params in landau_params])) for xi in dedxs ]) for fj_params in landau_params ])\n"
     ]
    },
    {
     "name": "stdout",
     "output_type": "stream",
     "text": [
      "Saved to ./plots/8-8/narrow_cumulative_reconstruction_muon_1250.png\n",
      "Saved to ./plots/8-8/narrow_cumulative_reconstruction_muon_1170.png\n",
      "Saved to ./plots/8-8/narrow_cumulative_reconstruction_muon_852.png\n",
      "Saved to ./plots/8-8/narrow_cumulative_reconstruction_muon_2231.png\n",
      "Saved to ./plots/8-8/narrow_cumulative_reconstruction_muon_384.png\n",
      "Saved to ./plots/8-8/narrow_cumulative_reconstruction_muon_270.png\n",
      "Saved to ./plots/8-8/narrow_cumulative_reconstruction_muon_2320.png\n",
      "Saved to ./plots/8-8/narrow_cumulative_reconstruction_muon_1985.png\n",
      "Saved to ./plots/8-8/narrow_cumulative_reconstruction_muon_1489.png\n",
      "Saved to ./plots/8-8/narrow_cumulative_reconstruction_muon_1370.png\n",
      "Saved to ./plots/8-8/narrow_cumulative_reconstruction_muon_2780.png\n",
      "Saved to ./plots/8-8/narrow_cumulative_reconstruction_muon_45.png\n",
      "Saved to ./plots/8-8/narrow_cumulative_reconstruction_muon_1101.png\n",
      "Saved to ./plots/8-8/narrow_cumulative_reconstruction_muon_1668.png\n",
      "Saved to ./plots/8-8/narrow_cumulative_reconstruction_muon_1653.png\n",
      "Saved to ./plots/8-8/narrow_cumulative_reconstruction_muon_891.png\n",
      "Saved to ./plots/8-8/narrow_cumulative_reconstruction_muon_1296.png\n",
      "Saved to ./plots/8-8/narrow_cumulative_reconstruction_muon_220.png\n",
      "Saved to ./plots/8-8/narrow_cumulative_reconstruction_muon_931.png\n",
      "Saved to ./plots/8-8/narrow_cumulative_reconstruction_muon_2515.png\n",
      "Saved to ./plots/8-8/narrow_cumulative_reconstruction_muon_929.png\n",
      "Saved to ./plots/8-8/narrow_cumulative_reconstruction_muon_627.png\n",
      "Saved to ./plots/8-8/narrow_cumulative_reconstruction_muon_367.png\n",
      "Saved to ./plots/8-8/narrow_cumulative_reconstruction_muon_2213.png\n",
      "Saved to ./plots/8-8/narrow_cumulative_reconstruction_muon_1055.png\n",
      "Saved to ./plots/8-8/narrow_cumulative_reconstruction_muon_705.png\n",
      "Saved to ./plots/8-8/narrow_cumulative_reconstruction_muon_2227.png\n",
      "Saved to ./plots/8-8/narrow_cumulative_reconstruction_muon_1687.png\n",
      "Saved to ./plots/8-8/narrow_cumulative_reconstruction_muon_1026.png\n",
      "Saved to ./plots/8-8/narrow_cumulative_reconstruction_muon_2566.png\n",
      "Saved to ./plots/8-8/narrow_cumulative_reconstruction_muon_179.png\n",
      "Saved to ./plots/8-8/narrow_cumulative_reconstruction_muon_1587.png\n",
      "Saved to ./plots/8-8/narrow_cumulative_reconstruction_muon_2406.png\n",
      "Saved to ./plots/8-8/narrow_cumulative_reconstruction_muon_181.png\n",
      "Saved to ./plots/8-8/narrow_cumulative_reconstruction_muon_771.png\n",
      "Saved to ./plots/8-8/narrow_cumulative_reconstruction_muon_1503.png\n",
      "Saved to ./plots/8-8/narrow_cumulative_reconstruction_muon_290.png\n",
      "Saved to ./plots/8-8/narrow_cumulative_reconstruction_muon_739.png\n",
      "Saved to ./plots/8-8/narrow_cumulative_reconstruction_muon_2644.png\n"
     ]
    },
    {
     "name": "stderr",
     "output_type": "stream",
     "text": [
      "/mnt/c/Users/Sam Crossley/Documents/Research/Cosmic_Muon_CER/util/cer_util.py:193: RuntimeWarning: divide by zero encountered in log\n",
      "  loglike = np.array([ summate([ np.log(langau_pdf(xi, *fj_params)) - np.log(np.sum([ langau_pdf(xi, *fk_params) for fk_params in landau_params])) for xi in dedxs ]) for fj_params in landau_params ])\n",
      "/mnt/c/Users/Sam Crossley/Documents/Research/Cosmic_Muon_CER/util/cer_util.py:193: RuntimeWarning: invalid value encountered in double_scalars\n",
      "  loglike = np.array([ summate([ np.log(langau_pdf(xi, *fj_params)) - np.log(np.sum([ langau_pdf(xi, *fk_params) for fk_params in landau_params])) for xi in dedxs ]) for fj_params in landau_params ])\n"
     ]
    },
    {
     "name": "stdout",
     "output_type": "stream",
     "text": [
      "Saved to ./plots/8-8/narrow_cumulative_reconstruction_muon_1154.png\n",
      "Saved to ./plots/8-8/narrow_cumulative_reconstruction_muon_1558.png\n",
      "Saved to ./plots/8-8/narrow_cumulative_reconstruction_muon_1433.png\n",
      "Saved to ./plots/8-8/narrow_cumulative_reconstruction_muon_2591.png\n",
      "Saved to ./plots/8-8/narrow_cumulative_reconstruction_muon_1239.png\n",
      "Saved to ./plots/8-8/narrow_cumulative_reconstruction_muon_78.png\n",
      "Saved to ./plots/8-8/narrow_cumulative_reconstruction_muon_417.png\n",
      "Saved to ./plots/8-8/narrow_cumulative_reconstruction_muon_1131.png\n",
      "Saved to ./plots/8-8/narrow_cumulative_reconstruction_muon_1025.png\n",
      "Saved to ./plots/8-8/narrow_cumulative_reconstruction_muon_2495.png\n",
      "Saved to ./plots/8-8/narrow_cumulative_reconstruction_muon_516.png\n",
      "Saved to ./plots/8-8/narrow_cumulative_reconstruction_muon_1266.png\n",
      "Saved to ./plots/8-8/narrow_cumulative_reconstruction_muon_1392.png\n",
      "Saved to ./plots/8-8/narrow_cumulative_reconstruction_muon_2633.png\n",
      "Saved to ./plots/8-8/narrow_cumulative_reconstruction_muon_1953.png\n",
      "Saved to ./plots/8-8/narrow_cumulative_reconstruction_muon_436.png\n",
      "Saved to ./plots/8-8/narrow_cumulative_reconstruction_muon_1674.png\n",
      "Saved to ./plots/8-8/narrow_cumulative_reconstruction_muon_435.png\n",
      "Saved to ./plots/8-8/narrow_cumulative_reconstruction_muon_252.png\n",
      "Saved to ./plots/8-8/narrow_cumulative_reconstruction_muon_847.png\n",
      "Saved to ./plots/8-8/narrow_cumulative_reconstruction_muon_493.png\n",
      "Saved to ./plots/8-8/narrow_cumulative_reconstruction_muon_681.png\n",
      "Saved to ./plots/8-8/narrow_cumulative_reconstruction_muon_768.png\n",
      "Saved to ./plots/8-8/narrow_cumulative_reconstruction_muon_2786.png\n",
      "Saved to ./plots/8-8/narrow_cumulative_reconstruction_muon_2331.png\n",
      "Saved to ./plots/8-8/narrow_cumulative_reconstruction_muon_961.png\n",
      "Saved to ./plots/8-8/narrow_cumulative_reconstruction_muon_2263.png\n",
      "Saved to ./plots/8-8/narrow_cumulative_reconstruction_muon_1846.png\n",
      "Saved to ./plots/8-8/narrow_cumulative_reconstruction_muon_1449.png\n",
      "Saved to ./plots/8-8/narrow_cumulative_reconstruction_muon_1975.png\n",
      "Saved to ./plots/8-8/narrow_cumulative_reconstruction_muon_1796.png\n",
      "Saved to ./plots/8-8/narrow_cumulative_reconstruction_muon_139.png\n",
      "Saved to ./plots/8-8/narrow_cumulative_reconstruction_muon_2429.png\n",
      "Saved to ./plots/8-8/narrow_cumulative_reconstruction_muon_2086.png\n",
      "Saved to ./plots/8-8/narrow_cumulative_reconstruction_muon_675.png\n"
     ]
    }
   ],
   "source": [
    "rng = np.random.default_rng()\n",
    "chosen_good_idxs = rng.choice(good_mu_idxs, size=50, replace=False)\n",
    "chosen_bad_idxs = rng.choice(bad_mu_idxs, size=50, replace=False)\n",
    "\n",
    "with open('cumulative_likelihoods.dat', 'wb') as file:\n",
    "    for idx in chosen_good_idxs:\n",
    "        fig = plot_cum_reconstruction(rec_key, idx)\n",
    "        savefig(fig, f'good_{rec_key}_cumulative_reconstruction_muon_{idx}.png')\n",
    "        pickle.dump(fig, file)\n",
    "        plt.close(fig)\n",
    "        \n",
    "    for idx in chosen_bad_idxs:\n",
    "        fig = plot_cum_reconstruction(rec_key, idx)\n",
    "        savefig(fig, f'bad_{rec_key}_cumulative_reconstruction_muon_{idx}.png')\n",
    "        pickle.dump(fig, file)\n",
    "        plt.close(fig)"
   ]
  },
  {
   "cell_type": "code",
   "execution_count": null,
   "id": "6647c949-4477-465d-9074-7ec05130cca6",
   "metadata": {},
   "outputs": [],
   "source": []
  }
 ],
 "metadata": {
  "kernelspec": {
   "display_name": "Python 3",
   "language": "python",
   "name": "python3"
  },
  "language_info": {
   "codemirror_mode": {
    "name": "ipython",
    "version": 3
   },
   "file_extension": ".py",
   "mimetype": "text/x-python",
   "name": "python",
   "nbconvert_exporter": "python",
   "pygments_lexer": "ipython3",
   "version": "3.6.9"
  }
 },
 "nbformat": 4,
 "nbformat_minor": 5
}
