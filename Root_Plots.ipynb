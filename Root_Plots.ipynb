{
 "cells": [
  {
   "cell_type": "code",
   "execution_count": 1,
   "id": "ec7aeced-8969-467f-9288-e83634e89c6c",
   "metadata": {},
   "outputs": [
    {
     "name": "stdout",
     "output_type": "stream",
     "text": [
      "Welcome to JupyROOT 6.24/06\n"
     ]
    }
   ],
   "source": [
    "import ROOT"
   ]
  },
  {
   "cell_type": "code",
   "execution_count": 14,
   "id": "560068b1-e2c5-4e4d-8923-b5b352aaefba",
   "metadata": {},
   "outputs": [],
   "source": [
    "file = ROOT.TFile('./data/simulated_cosmics_full.root', 'READ')\n",
    "tree = file.nuselection.CalorimetryAnalyzer"
   ]
  },
  {
   "cell_type": "code",
   "execution_count": 38,
   "id": "1823c4fe-78dd-433b-bfd0-84efd03f8fc3",
   "metadata": {},
   "outputs": [],
   "source": [
    "mine, maxe = 6.5, 7.5\n",
    "def cond(e, dedx, pitch):\n",
    "    return e < maxe and e > mine and dedx < 100 and pitch < 0.877"
   ]
  },
  {
   "cell_type": "code",
   "execution_count": 35,
   "id": "583620c4-e8b1-419f-97e8-b616e1a74b86",
   "metadata": {},
   "outputs": [
    {
     "name": "stderr",
     "output_type": "stream",
     "text": [
      "Warning in <TFile::Append>: Replacing existing TH1: dedx (Potential memory leak).\n"
     ]
    }
   ],
   "source": [
    "h = ROOT.TH1D('dedx', 'Energy Loss Distribution; dedx (GeV); Counts', 100, 0, 6)\n",
    "for event in tree:\n",
    "    e = event.backtracked_e\n",
    "    dedxs = event.dedx_y\n",
    "    pitches = event.pitch_y\n",
    "    for dedx, pitch in zip(dedxs, pitches):\n",
    "        if cond(e, dedx, pitch):\n",
    "            h.Fill(dedx)"
   ]
  },
  {
   "cell_type": "code",
   "execution_count": 36,
   "id": "74d41eb7-55a4-488a-9608-4fd1e01e00e9",
   "metadata": {},
   "outputs": [],
   "source": [
    "mode = h.GetXaxis().GetBinCenter(h.GetMaximumBin())"
   ]
  },
  {
   "cell_type": "code",
   "execution_count": 37,
   "id": "87b087bd-2a11-4047-aeac-daca284e8031",
   "metadata": {},
   "outputs": [
    {
     "data": {
      "image/png": "[encoded data removed]",
      "text/plain": [
       "<IPython.core.display.Image object>"
      ]
     },
     "metadata": {},
     "output_type": "display_data"
    }
   ],
   "source": [
    "c = ROOT.TCanvas()\n",
    "h.SetStats(0)\n",
    "h.Draw()\n",
    "leg = ROOT.TLegend(0.7, 0.8, 0.9, 0.9, '')\n",
    "leg.AddEntry(h, f'Mode: {mode}')\n",
    "leg.Draw()\n",
    "c.Draw()"
   ]
  },
  {
   "cell_type": "code",
   "execution_count": null,
   "id": "f9915a51-6633-4d37-80c5-a3de9ad32059",
   "metadata": {},
   "outputs": [],
   "source": []
  }
 ],
 "metadata": {
  "kernelspec": {
   "display_name": "Python 3",
   "language": "python",
   "name": "python3"
  },
  "language_info": {
   "codemirror_mode": {
    "name": "ipython",
    "version": 3
   },
   "file_extension": ".py",
   "mimetype": "text/x-python",
   "name": "python",
   "nbconvert_exporter": "python",
   "pygments_lexer": "ipython3",
   "version": "3.6.9"
  }
 },
 "nbformat": 4,
 "nbformat_minor": 5
}
