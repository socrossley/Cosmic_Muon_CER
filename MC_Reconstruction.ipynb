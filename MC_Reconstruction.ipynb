{
 "cells": [
  {
   "cell_type": "code",
   "execution_count": 319,
   "id": "1261b4de-a4a5-467a-87a4-1a7565a6330e",
   "metadata": {},
   "outputs": [],
   "source": [
    "import pandas as pd\n",
    "import numpy as np\n",
    "from util.cer_util import CER\n",
    "import util.theory as theory\n",
    "import matplotlib.pyplot as plt\n",
    "from scipy.integrate import quad\n",
    "from scipy.optimize import fsolve\n",
    "import time"
   ]
  },
  {
   "cell_type": "code",
   "execution_count": 334,
   "id": "78499dae-4e42-43a4-ab12-92a4eac7dc30",
   "metadata": {},
   "outputs": [
    {
     "data": {
      "text/html": [
       "<div>\n",
       "<style scoped>\n",
       "    .dataframe tbody tr th:only-of-type {\n",
       "        vertical-align: middle;\n",
       "    }\n",
       "\n",
       "    .dataframe tbody tr th {\n",
       "        vertical-align: top;\n",
       "    }\n",
       "\n",
       "    .dataframe thead th {\n",
       "        text-align: right;\n",
       "    }\n",
       "</style>\n",
       "<table border=\"1\" class=\"dataframe\">\n",
       "  <thead>\n",
       "    <tr style=\"text-align: right;\">\n",
       "      <th></th>\n",
       "      <th>mpv</th>\n",
       "      <th>eta</th>\n",
       "      <th>sigma</th>\n",
       "      <th>A</th>\n",
       "      <th>e_min</th>\n",
       "      <th>e_max</th>\n",
       "      <th>rmse</th>\n",
       "    </tr>\n",
       "  </thead>\n",
       "  <tbody>\n",
       "    <tr>\n",
       "      <th>0</th>\n",
       "      <td>1.745721</td>\n",
       "      <td>0.070517</td>\n",
       "      <td>0.137641</td>\n",
       "      <td>17594.436216</td>\n",
       "      <td>1.000000</td>\n",
       "      <td>1.521592</td>\n",
       "      <td>42.784879</td>\n",
       "    </tr>\n",
       "    <tr>\n",
       "      <th>1</th>\n",
       "      <td>1.753779</td>\n",
       "      <td>0.071828</td>\n",
       "      <td>0.137641</td>\n",
       "      <td>17327.916645</td>\n",
       "      <td>1.521592</td>\n",
       "      <td>2.052678</td>\n",
       "      <td>42.183982</td>\n",
       "    </tr>\n",
       "    <tr>\n",
       "      <th>2</th>\n",
       "      <td>1.777051</td>\n",
       "      <td>0.072956</td>\n",
       "      <td>0.137641</td>\n",
       "      <td>17016.309209</td>\n",
       "      <td>2.052678</td>\n",
       "      <td>2.597759</td>\n",
       "      <td>43.386202</td>\n",
       "    </tr>\n",
       "    <tr>\n",
       "      <th>3</th>\n",
       "      <td>1.788119</td>\n",
       "      <td>0.074535</td>\n",
       "      <td>0.137641</td>\n",
       "      <td>17008.016786</td>\n",
       "      <td>2.597759</td>\n",
       "      <td>3.144185</td>\n",
       "      <td>41.653107</td>\n",
       "    </tr>\n",
       "    <tr>\n",
       "      <th>4</th>\n",
       "      <td>1.794918</td>\n",
       "      <td>0.075978</td>\n",
       "      <td>0.137641</td>\n",
       "      <td>16642.923989</td>\n",
       "      <td>3.144185</td>\n",
       "      <td>3.798715</td>\n",
       "      <td>45.001545</td>\n",
       "    </tr>\n",
       "    <tr>\n",
       "      <th>5</th>\n",
       "      <td>1.804564</td>\n",
       "      <td>0.076751</td>\n",
       "      <td>0.137641</td>\n",
       "      <td>16039.573711</td>\n",
       "      <td>3.798715</td>\n",
       "      <td>4.497364</td>\n",
       "      <td>45.366568</td>\n",
       "    </tr>\n",
       "    <tr>\n",
       "      <th>6</th>\n",
       "      <td>1.818009</td>\n",
       "      <td>0.075473</td>\n",
       "      <td>0.137641</td>\n",
       "      <td>16533.877802</td>\n",
       "      <td>4.497364</td>\n",
       "      <td>5.437525</td>\n",
       "      <td>49.330736</td>\n",
       "    </tr>\n",
       "    <tr>\n",
       "      <th>7</th>\n",
       "      <td>1.825457</td>\n",
       "      <td>0.076237</td>\n",
       "      <td>0.137641</td>\n",
       "      <td>16527.934803</td>\n",
       "      <td>5.437525</td>\n",
       "      <td>6.691661</td>\n",
       "      <td>49.447265</td>\n",
       "    </tr>\n",
       "    <tr>\n",
       "      <th>8</th>\n",
       "      <td>1.841005</td>\n",
       "      <td>0.075271</td>\n",
       "      <td>0.137641</td>\n",
       "      <td>16525.938605</td>\n",
       "      <td>6.691661</td>\n",
       "      <td>8.286596</td>\n",
       "      <td>44.555778</td>\n",
       "    </tr>\n",
       "    <tr>\n",
       "      <th>9</th>\n",
       "      <td>1.843937</td>\n",
       "      <td>0.074825</td>\n",
       "      <td>0.137641</td>\n",
       "      <td>16540.713939</td>\n",
       "      <td>8.286596</td>\n",
       "      <td>9.999993</td>\n",
       "      <td>49.872391</td>\n",
       "    </tr>\n",
       "  </tbody>\n",
       "</table>\n",
       "</div>"
      ],
      "text/plain": [
       "        mpv       eta     sigma             A     e_min     e_max       rmse\n",
       "0  1.745721  0.070517  0.137641  17594.436216  1.000000  1.521592  42.784879\n",
       "1  1.753779  0.071828  0.137641  17327.916645  1.521592  2.052678  42.183982\n",
       "2  1.777051  0.072956  0.137641  17016.309209  2.052678  2.597759  43.386202\n",
       "3  1.788119  0.074535  0.137641  17008.016786  2.597759  3.144185  41.653107\n",
       "4  1.794918  0.075978  0.137641  16642.923989  3.144185  3.798715  45.001545\n",
       "5  1.804564  0.076751  0.137641  16039.573711  3.798715  4.497364  45.366568\n",
       "6  1.818009  0.075473  0.137641  16533.877802  4.497364  5.437525  49.330736\n",
       "7  1.825457  0.076237  0.137641  16527.934803  5.437525  6.691661  49.447265\n",
       "8  1.841005  0.075271  0.137641  16525.938605  6.691661  8.286596  44.555778\n",
       "9  1.843937  0.074825  0.137641  16540.713939  8.286596  9.999993  49.872391"
      ]
     },
     "execution_count": 334,
     "metadata": {},
     "output_type": "execute_result"
    }
   ],
   "source": [
    "fitdf = pd.read_csv('./data/fit_data/narrow_lowpitch_fixedsig_fit_data.csv')"
   ]
  },
  {
   "cell_type": "code",
   "execution_count": 300,
   "id": "dea8c30f-8333-4f5e-9a5c-9eac4da102d5",
   "metadata": {},
   "outputs": [],
   "source": [
    "langau_params = fitdf[['mpv', 'eta', 'sigma']]\n",
    "rng = np.random.default_rng()"
   ]
  },
  {
   "cell_type": "markdown",
   "id": "2c92d687-c01f-4da4-9486-872b4f8b4ee0",
   "metadata": {},
   "source": [
    "### Proof of correct invese transform sampling"
   ]
  },
  {
   "cell_type": "code",
   "execution_count": 283,
   "id": "c5c59ddd-d15f-42b3-8709-08176c744d4e",
   "metadata": {},
   "outputs": [
    {
     "data": {
      "text/plain": [
       "[<matplotlib.lines.Line2D at 0x7f3432c3cc50>]"
      ]
     },
     "execution_count": 283,
     "metadata": {},
     "output_type": "execute_result"
    },
    {
     "data": {
      "image/png": "[encoded data removed]",
      "text/plain": [
       "<Figure size 432x288 with 1 Axes>"
      ]
     },
     "metadata": {
      "needs_background": "light"
     },
     "output_type": "display_data"
    }
   ],
   "source": [
    "params = langau_params.iloc[0]\n",
    "xrange = np.linspace(0,7,1000)\n",
    "\n",
    "def sample_from_langau(mpv, eta, sigma):\n",
    "    prob = rng.uniform()\n",
    "    to_solve = lambda b: quad(theory.langau_pdf, -np.inf, b, args=(mpv, eta, sigma))[0]-prob\n",
    "    dedx = fsolve(to_solve, 2)[0]\n",
    "    return prob, dedx\n",
    "\n",
    "plt.plot(xrange, [ theory.langau_pdf(x, *params) for x in xrange ], label='langau pdf')\n",
    "plt.plot(xrange, [ quad(theory.langau_pdf, -np.inf, x, args=tuple(params))[0] for x in xrange ], label='langau cdf')\n",
    "plt.legend()\n",
    "\n",
    "prob, dedx = sample_from_langau(*params)\n",
    "\n",
    "plt.plot([0, dedx], [prob,prob], ls='-.', color='tab:purple')\n",
    "plt.plot([dedx, dedx], [0, prob], ls='-.', color='tab:purple')\n",
    "plt.plot([dedx], [prob], marker='o', color='tab:purple')"
   ]
  },
  {
   "cell_type": "markdown",
   "id": "31bcf014-62bb-4c31-b0cc-298dddcf6695",
   "metadata": {},
   "source": [
    "### Generate distribution from which to sample MC track lengths\n",
    "Uses a lognormal distribution which is fit to the track length histogram in the narrow lowpitch data. This takes a long time as the full dataset must be loaded, so it is only done and the fit values are hardcoded."
   ]
  },
  {
   "cell_type": "code",
   "execution_count": 202,
   "id": "36c3fd5d-8b75-4117-bb4e-c69762524329",
   "metadata": {},
   "outputs": [],
   "source": [
    "%%script false --no-raise-error\n",
    "cer = CER(full=True, pitch_lims=(0.3, 0.4), angle_given=False, e_lims=(1, 10))\n",
    "cer.load_muons()\n",
    "lens = []\n",
    "for i in cer.muons.index:\n",
    "    lens.append(cer.muons.dedx_y.loc[i].shape[0])"
   ]
  },
  {
   "cell_type": "code",
   "execution_count": 228,
   "id": "13fc9884-adc4-45ba-8365-73a0af9d8015",
   "metadata": {},
   "outputs": [],
   "source": [
    "import scipy.stats\n",
    "from scipy.optimize import curve_fit\n",
    "\n",
    "def lognorm(x, s, loc, scale):\n",
    "    return scipy.stats.lognorm.pdf(x, s, loc, scale)"
   ]
  },
  {
   "cell_type": "code",
   "execution_count": 329,
   "id": "5ee33330-e66e-4391-825e-eb5396f3ec92",
   "metadata": {},
   "outputs": [
    {
     "data": {
      "image/png": "[encoded data removed]",
      "text/plain": [
       "<Figure size 432x288 with 1 Axes>"
      ]
     },
     "metadata": {
      "needs_background": "light"
     },
     "output_type": "display_data"
    }
   ],
   "source": [
    "counts, edges = np.histogram(lens, 30, density=True)\n",
    "bins = (edges[1:] + edges[:-1]) / 2\n",
    "plt.plot(edges[:-1], counts, ls='', marker='o')\n",
    "popt, pcov = curve_fit(lognorm, bins, counts)\n",
    "\n",
    "x = np.linspace(edges[0], edges[-1], 1000)\n",
    "plt.plot(x, lognorm(x, *popt), label='s = {:.8e}, \\nloc = {:.8e}, \\nscale = {:.8e}'.format(*popt))\n",
    "plt.legend()\n",
    "plt.show()"
   ]
  },
  {
   "cell_type": "markdown",
   "id": "156e5ad1-bebc-4bf7-8864-69fc75f376c3",
   "metadata": {},
   "source": [
    "Here we hardcode the data distirubution data from the legend into these parameters, to avoid the long process every time"
   ]
  },
  {
   "cell_type": "code",
   "execution_count": 265,
   "id": "9d3d9483-4ff1-4766-825f-8f6602839a49",
   "metadata": {},
   "outputs": [],
   "source": [
    "#                 s               loc              scale             \n",
    "s, loc, scale = ( 2.01980595e-01, -1.23848172e+03, 1.66933758e+03 )\n",
    "\n",
    "def rand_trkl():\n",
    "    val = int(scipy.stats.lognorm.rvs(s, loc, scale))\n",
    "    while val < 2:\n",
    "        val = int(scipy.stats.lognorm.rvs(s, loc, scale))\n",
    "    return val"
   ]
  },
  {
   "cell_type": "markdown",
   "id": "c0daba45-54b5-40fb-9229-41cf816c548c",
   "metadata": {},
   "source": [
    "Proof that this function is accurately reproducing the track length results:"
   ]
  },
  {
   "cell_type": "code",
   "execution_count": 276,
   "id": "dbc7e6e5-9a28-454d-bbff-997ad48b8ae3",
   "metadata": {},
   "outputs": [
    {
     "data": {
      "image/png": "[encoded data removed]",
      "text/plain": [
       "<Figure size 432x288 with 1 Axes>"
      ]
     },
     "metadata": {
      "needs_background": "light"
     },
     "output_type": "display_data"
    }
   ],
   "source": [
    "plt.plot(edges[1:], counts, ls='', marker='o')\n",
    "plt.hist([rand_trkl() for x in range(1000)], bins=30, density=True, histtype='step')\n",
    "plt.show()"
   ]
  },
  {
   "cell_type": "markdown",
   "id": "a3f34fb6-9916-44f5-9c97-186d6e533a8a",
   "metadata": {},
   "source": [
    "Now we are ready for the MC data production, will make 200 muons in each of the energy bins, select a random track length for each, and for each data point in the track length, select a random dedx value distributed as that langau bin."
   ]
  },
  {
   "cell_type": "code",
   "execution_count": 3,
   "id": "e9d7cd04-1e87-4c40-8871-8953d3bbce36",
   "metadata": {},
   "outputs": [],
   "source": [
    "%%script false --no-raise-error\n",
    "\n",
    "muons_per_ebin = 10\n",
    "start = time.perf_counter()\n",
    "\n",
    "dedxs_dict = {} \n",
    "for i, params in langau_params.iterrows():\n",
    "    print('Bin '+ str(i) + '...')\n",
    "    dedxs_per_ebin = []\n",
    "    for j in range(muons_per_ebin):\n",
    "        trkl = rand_trkl()\n",
    "        \n",
    "        dedxs = []\n",
    "        for k in range(trkl):\n",
    "            prob, dedx = sample_from_langau(*params)\n",
    "            dedxs.append(dedx)\n",
    "        \n",
    "        dedxs_per_ebin.append(dedxs)\n",
    "    dedxs_dict[str(i)] = dedxs_per_ebin\n",
    "    \n",
    "print('Generated!')\n",
    "                 \n",
    "end = time.perf_counter()\n",
    "t = end-start\n",
    "print(f'Total analysis time {int(t//60):d}m {t%60:.1f}s')"
   ]
  },
  {
   "cell_type": "code",
   "execution_count": 346,
   "id": "161cf896-e676-44f5-b25a-1c2abcbe66f8",
   "metadata": {},
   "outputs": [],
   "source": [
    "def like_max(dedxs):\n",
    "    landau_params = np.array([ langau_params.iloc[i] for i in range(fitdf.shape[0]) ])\n",
    "    \n",
    "    # One big list comprehension for maximum calculation speed\n",
    "    loglike = np.array([ np.sum([ np.log(theory.langau_pdf(xi, *fj_params)) - np.log(np.sum([ theory.langau_pdf(xi, *fk_params) for fk_params in landau_params])) for xi in dedxs ]) for fj_params in landau_params])\n",
    "    \n",
    "    jtilde = np.argmax(loglike)\n",
    "    e_min_tilde, e_max_tilde = fitdf[['e_min', 'e_max']].iloc[jtilde]\n",
    "    return e_min_tilde, e_max_tilde, loglike"
   ]
  },
  {
   "cell_type": "code",
   "execution_count": 348,
   "id": "ad586a29-955b-4532-b27b-15046b209df5",
   "metadata": {},
   "outputs": [
    {
     "name": "stdout",
     "output_type": "stream",
     "text": [
      "Generating elosses and reconstructing energy...\n",
      "Done! Analysis time: 0m 39.3s\n"
     ]
    }
   ],
   "source": [
    "truth = []\n",
    "reconstructed = []\n",
    "loglikes = []\n",
    "p_count = 0\n",
    "\n",
    "tot_particles = muons_per_ebin * fitdf.shape[0]\n",
    "pcnt_per_count = 100./tot_particles\n",
    "count_per_pcnt = 1/pcnt_per_count\n",
    "running_count_for_pcnt_increment = 0\n",
    "\n",
    "print(\"Generating elosses and reconstructing energy...\")\n",
    "start = time.perf_counter()\n",
    "for key, value in dedxs_dict.items():\n",
    "    \n",
    "    for muon_dedxs in value:\n",
    "        \n",
    "        if p_count > running_count_for_pcnt_increment:\n",
    "            print(f\"{(running_count_for_pcnt_increment / tot_particles)*100:.0f}%   \", end = '\\r', flush=True)\n",
    "            running_count_for_pcnt_increment += count_per_pcnt\n",
    "\n",
    "        p_count += 1\n",
    "        e_min, e_max, loglike = like_max(muon_dedxs)\n",
    "\n",
    "        true_e = fitdf[['e_min', 'e_max']].iloc[int(key)].mean()\n",
    "        truth.append(true_e)\n",
    "\n",
    "        guess_e = (e_min, e_max)\n",
    "        reconstructed.append(guess_e)\n",
    "        loglikes.append(loglike)\n",
    "    \n",
    "end = time.perf_counter()\n",
    "t = end-start\n",
    "print(f\"Done! Analysis time: {int(t//60)}m {t%60:0.1f}s\")"
   ]
  },
  {
   "cell_type": "code",
   "execution_count": 357,
   "id": "58601972-7388-43ab-b52a-0a7593d348db",
   "metadata": {},
   "outputs": [],
   "source": [
    "like_data_dict = []\n",
    "for i in range(len(truth)):\n",
    "    t = truth[i]\n",
    "    re_min = reconstructed[i][0]\n",
    "    re_max = reconstructed[i][1]\n",
    "    \n",
    "    this_dict = {'truth': t, 'reconstructed_min': re_min, 'reconstructed_max': re_max}\n",
    "    \n",
    "    for j in range(len(loglikes[i])):\n",
    "        like = loglikes[i][j]\n",
    "        this_dict[f'L{j}'] = like\n",
    "    \n",
    "    like_data_dict.append(this_dict)\n",
    "\n",
    "save=False\n",
    "if save:\n",
    "    print(\"Saving likelihood data...\")\n",
    "    like_data = pd.DataFrame.from_dict(like_data_dict)\n",
    "    like_data.to_csv(rf'../data/reconstructions/{save}', index=False, header=True)\n",
    "    print('Saved!')"
   ]
  }
 ],
 "metadata": {
  "kernelspec": {
   "display_name": "Python 3",
   "language": "python",
   "name": "python3"
  },
  "language_info": {
   "codemirror_mode": {
    "name": "ipython",
    "version": 3
   },
   "file_extension": ".py",
   "mimetype": "text/x-python",
   "name": "python",
   "nbconvert_exporter": "python",
   "pygments_lexer": "ipython3",
   "version": "3.6.9"
  }
 },
 "nbformat": 4,
 "nbformat_minor": 5
}
