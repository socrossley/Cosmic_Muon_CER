{
 "cells": [
  {
   "cell_type": "markdown",
   "id": "30baaeed-846d-470d-8e70-5baf168da400",
   "metadata": {},
   "source": [
    "## Likelihood\n",
    "This notebook is an interactive version of the executable python file run by the server. It is meant for the tuning of the likelihood."
   ]
  },
  {
   "cell_type": "code",
   "execution_count": 1,
   "id": "5222a752-373c-4f71-888e-9566c163ca6a",
   "metadata": {},
   "outputs": [],
   "source": [
    "import sys\n",
    "from os.path import realpath, dirname\n",
    "sys.path.append(dirname(realpath('')))\n",
    "\n",
    "%matplotlib inline\n",
    "import matplotlib\n",
    "import matplotlib.pyplot as plt\n",
    "import numpy as np\n",
    "import pandas as pd\n",
    "import datetime\n",
    "import gc\n",
    "import warnings\n",
    "import time\n",
    "import csv\n",
    "warnings.filterwarnings('ignore')"
   ]
  },
  {
   "cell_type": "code",
   "execution_count": 2,
   "id": "2cd89bec-2976-4b97-8f1a-d433fedb76d1",
   "metadata": {},
   "outputs": [],
   "source": [
    "import matplotlib.ticker as mticker\n",
    "import pylandau\n",
    "from pylandau import langau\n",
    "from importlib import reload\n",
    "from scipy.optimize import curve_fit, fsolve\n",
    "from scipy.integrate import quad"
   ]
  },
  {
   "cell_type": "code",
   "execution_count": 62,
   "id": "92db160b-a045-480c-8cb5-78a1513c7be2",
   "metadata": {},
   "outputs": [
    {
     "data": {
      "text/html": [
       "<div>\n",
       "<style scoped>\n",
       "    .dataframe tbody tr th:only-of-type {\n",
       "        vertical-align: middle;\n",
       "    }\n",
       "\n",
       "    .dataframe tbody tr th {\n",
       "        vertical-align: top;\n",
       "    }\n",
       "\n",
       "    .dataframe thead th {\n",
       "        text-align: right;\n",
       "    }\n",
       "</style>\n",
       "<table border=\"1\" class=\"dataframe\">\n",
       "  <thead>\n",
       "    <tr style=\"text-align: right;\">\n",
       "      <th></th>\n",
       "      <th>mpv</th>\n",
       "      <th>eta</th>\n",
       "      <th>sigma</th>\n",
       "      <th>A</th>\n",
       "      <th>e_min</th>\n",
       "      <th>e_max</th>\n",
       "      <th>rmse</th>\n",
       "    </tr>\n",
       "  </thead>\n",
       "  <tbody>\n",
       "    <tr>\n",
       "      <th>0</th>\n",
       "      <td>1.744100</td>\n",
       "      <td>0.024711</td>\n",
       "      <td>0.167919</td>\n",
       "      <td>1471.941835</td>\n",
       "      <td>1.000000</td>\n",
       "      <td>1.512757</td>\n",
       "      <td>12.092569</td>\n",
       "    </tr>\n",
       "    <tr>\n",
       "      <th>1</th>\n",
       "      <td>1.750566</td>\n",
       "      <td>0.027337</td>\n",
       "      <td>0.167919</td>\n",
       "      <td>4786.545927</td>\n",
       "      <td>1.512757</td>\n",
       "      <td>2.032342</td>\n",
       "      <td>17.319499</td>\n",
       "    </tr>\n",
       "    <tr>\n",
       "      <th>2</th>\n",
       "      <td>1.774765</td>\n",
       "      <td>0.027063</td>\n",
       "      <td>0.167919</td>\n",
       "      <td>685.039066</td>\n",
       "      <td>2.032342</td>\n",
       "      <td>2.576881</td>\n",
       "      <td>9.244529</td>\n",
       "    </tr>\n",
       "    <tr>\n",
       "      <th>3</th>\n",
       "      <td>1.786991</td>\n",
       "      <td>0.030271</td>\n",
       "      <td>0.167919</td>\n",
       "      <td>585.758234</td>\n",
       "      <td>2.576881</td>\n",
       "      <td>3.112271</td>\n",
       "      <td>8.773157</td>\n",
       "    </tr>\n",
       "    <tr>\n",
       "      <th>4</th>\n",
       "      <td>1.790630</td>\n",
       "      <td>0.029987</td>\n",
       "      <td>0.167919</td>\n",
       "      <td>2265.716780</td>\n",
       "      <td>3.112271</td>\n",
       "      <td>3.768689</td>\n",
       "      <td>13.923329</td>\n",
       "    </tr>\n",
       "    <tr>\n",
       "      <th>5</th>\n",
       "      <td>1.801344</td>\n",
       "      <td>0.031949</td>\n",
       "      <td>0.167919</td>\n",
       "      <td>1477.046887</td>\n",
       "      <td>3.768689</td>\n",
       "      <td>4.461534</td>\n",
       "      <td>10.776878</td>\n",
       "    </tr>\n",
       "    <tr>\n",
       "      <th>6</th>\n",
       "      <td>1.814593</td>\n",
       "      <td>0.030720</td>\n",
       "      <td>0.167919</td>\n",
       "      <td>6481.124507</td>\n",
       "      <td>4.461534</td>\n",
       "      <td>5.392251</td>\n",
       "      <td>19.307901</td>\n",
       "    </tr>\n",
       "    <tr>\n",
       "      <th>7</th>\n",
       "      <td>1.823231</td>\n",
       "      <td>0.030155</td>\n",
       "      <td>0.167919</td>\n",
       "      <td>1781.661990</td>\n",
       "      <td>5.392251</td>\n",
       "      <td>6.661051</td>\n",
       "      <td>11.235639</td>\n",
       "    </tr>\n",
       "    <tr>\n",
       "      <th>8</th>\n",
       "      <td>1.836538</td>\n",
       "      <td>0.028048</td>\n",
       "      <td>0.167919</td>\n",
       "      <td>1077.476980</td>\n",
       "      <td>6.661051</td>\n",
       "      <td>8.268015</td>\n",
       "      <td>11.608063</td>\n",
       "    </tr>\n",
       "    <tr>\n",
       "      <th>9</th>\n",
       "      <td>1.841481</td>\n",
       "      <td>0.027646</td>\n",
       "      <td>0.167919</td>\n",
       "      <td>1137.070890</td>\n",
       "      <td>8.268015</td>\n",
       "      <td>9.999878</td>\n",
       "      <td>9.870426</td>\n",
       "    </tr>\n",
       "  </tbody>\n",
       "</table>\n",
       "</div>"
      ],
      "text/plain": [
       "        mpv       eta     sigma            A     e_min     e_max       rmse\n",
       "0  1.744100  0.024711  0.167919  1471.941835  1.000000  1.512757  12.092569\n",
       "1  1.750566  0.027337  0.167919  4786.545927  1.512757  2.032342  17.319499\n",
       "2  1.774765  0.027063  0.167919   685.039066  2.032342  2.576881   9.244529\n",
       "3  1.786991  0.030271  0.167919   585.758234  2.576881  3.112271   8.773157\n",
       "4  1.790630  0.029987  0.167919  2265.716780  3.112271  3.768689  13.923329\n",
       "5  1.801344  0.031949  0.167919  1477.046887  3.768689  4.461534  10.776878\n",
       "6  1.814593  0.030720  0.167919  6481.124507  4.461534  5.392251  19.307901\n",
       "7  1.823231  0.030155  0.167919  1781.661990  5.392251  6.661051  11.235639\n",
       "8  1.836538  0.028048  0.167919  1077.476980  6.661051  8.268015  11.608063\n",
       "9  1.841481  0.027646  0.167919  1137.070890  8.268015  9.999878   9.870426"
      ]
     },
     "metadata": {},
     "output_type": "display_data"
    }
   ],
   "source": [
    "fit_data_loc = r'./data/fit_data/delta_rm33_fit_data.csv'\n",
    "fitdata = pd.read_csv(fit_data_loc)\n",
    "display(fitdata)"
   ]
  },
  {
   "cell_type": "markdown",
   "id": "16edeb65-55b3-47b4-a465-d944843daf05",
   "metadata": {},
   "source": [
    "This fixes an issue with the <code>pylandau.langau_pdf</code> function normalization. I redefine my own langau."
   ]
  },
  {
   "cell_type": "code",
   "execution_count": null,
   "id": "0a20f8d3-ec44-4c00-8787-6fe449594c3a",
   "metadata": {},
   "outputs": [],
   "source": [
    "def v_langau_pdf(dedxs, params):\n",
    "    sf = 100\n",
    "    scaled_dedxs = dedxs*sf\n",
    "    scaled_params = params*sf\n",
    "    return sf * scaled_params[1] * pylandau.langau_pdf(scaled_dedxs, *scaled_params)"
   ]
  },
  {
   "cell_type": "code",
   "execution_count": 128,
   "id": "eaa732d5-6249-4298-93e5-40bb4b2c00ad",
   "metadata": {},
   "outputs": [
    {
     "name": "stdout",
     "output_type": "stream",
     "text": [
      "<class 'numpy.float64'>\n"
     ]
    },
    {
     "data": {
      "text/plain": [
       "array([74.10737586, 74.09228705, 74.226323  , 74.17546966, 74.19113177,\n",
       "       74.14749   , 74.18197886, 74.18800069, 74.22135713, 74.21740785])"
      ]
     },
     "execution_count": 128,
     "metadata": {},
     "output_type": "execute_result"
    }
   ],
   "source": [
    "dedxs = pd.Series([0.7, 1.8, 1.8, 0.3, 2])\n",
    "dedxs = dedxs.to_numpy()\n",
    "l_params = fitdata[['mpv','eta','sigma']].to_numpy()\n",
    "print(type(l_params[0][0]))\n",
    "lognorm = np.log(np.sum(np.array([ v_langau_pdf(dedxs, params) for params in l_params ]), axis=0))\n",
    "logmodel = np.array([ v_langau_pdf(dedxs, params) for params in l_params ])\n",
    "loglike = np.sum(logmodel-lognorm, axis=1)\n",
    "loglike"
   ]
  },
  {
   "cell_type": "code",
   "execution_count": null,
   "id": "455b9f8c-6acb-4378-956b-c8e5321d678f",
   "metadata": {},
   "outputs": [
    {
     "data": {
      "text/plain": [
       "array([[0, 0],\n",
       "       [3, 3]])"
      ]
     },
     "execution_count": 118,
     "metadata": {},
     "output_type": "execute_result"
    }
   ],
   "source": [
    "np.array([ [1,2], [4,5]]) - np.array([1,2])"
   ]
  },
  {
   "cell_type": "code",
   "execution_count": null,
   "id": "a0521964-d6bc-489c-b044-383f08beb4a6",
   "metadata": {},
   "outputs": [
    {
     "name": "stdout",
     "output_type": "stream",
     "text": [
      "[1.83653766 0.02804793 0.16791867]\n"
     ]
    },
    {
     "data": {
      "text/plain": [
       "[<matplotlib.lines.Line2D at 0x7fb2f0c4b908>]"
      ]
     },
     "execution_count": 97,
     "metadata": {},
     "output_type": "execute_result"
    },
    {
     "data": {
      "image/png": "[encoded data removed]",
      "text/plain": [
       "<Figure size 432x288 with 1 Axes>"
      ]
     },
     "metadata": {
      "needs_background": "light"
     },
     "output_type": "display_data"
    }
   ],
   "source": [
    "x = np.linspace(0,7,1000)\n",
    "sf = 10\n",
    "params=l_params[8,:]\n",
    "print(params)\n",
    "y = [ params[1]*pylandau.get_langau_pdf(x_, params[0], params[1], params[2]) for x_ in x ]\n",
    "y2 = [ sf*params[1]*sf*pylandau.get_langau_pdf(x_*sf, *(params*sf)) for x_ in x ]\n",
    "plt.plot(x,y)\n",
    "plt.plot(x,y2)"
   ]
  },
  {
   "cell_type": "code",
   "execution_count": 4,
   "id": "2bd4f685-b530-4375-b69c-29295254f017",
   "metadata": {},
   "outputs": [],
   "source": [
    "def langau_pdf(dedx, mpv, eta, sig):\n",
    "    return eta * pylandau.get_langau_pdf(dedx, mpv, eta, sig)"
   ]
  },
  {
   "cell_type": "code",
   "execution_count": 66,
   "id": "c89f3e6e-f902-4e90-8085-a6a8faf77723",
   "metadata": {},
   "outputs": [
    {
     "name": "stdout",
     "output_type": "stream",
     "text": [
      "Loading Data...\n",
      "Loaded!\n",
      "Sorting into array of muons...\n",
      "Done!\n",
      "Removed 5661 muons.\n"
     ]
    }
   ],
   "source": [
    "import cer_util\n",
    "cer = cer_util.CER()\n",
    "cer.load_muons()\n",
    "cer.slim_muons() "
   ]
  },
  {
   "cell_type": "markdown",
   "id": "fefaca02-9fc3-486d-97d4-0d2bf5374459",
   "metadata": {},
   "source": [
    "The likelihood will only depend on the dedxs and the landau fit parameters. The true energies are calculated for reference. For a given dedx ($x_i$) the probability that it corresponds to a measurement from energy bin $j$ is given by:\n",
    "$$p_j(x_i)=\\frac{f(x_i;\\vec{\\theta}_j)}{\\sum_{k}f(x_i;\\vec{\\theta}_k)}$$\n",
    "where $f$ is the langau pdf and the denominator is the sum of the langau pdfs at $x_i$ over all energy bins. **Assuming the $x_i$ are independent (which is wrong)**, the likelihood that all the data $x_i$ correspond to energy bin with parameters $\\vec{\\theta}_j$ is:\n",
    "$$\\mathscr{L}(\\vec{\\theta}_j)=\\prod_i\\frac{f(x_i;\\vec{\\theta}_j)}{\\sum_k f(x_i; \\vec{\\theta}_k)}$$\n",
    "We use the log-likelihood:\n",
    "$$\\log\\mathscr{L}(\\vec{\\theta}_j)=\\sum_i\\left[\\log f(x_i;\\vec{\\theta}_j)-\\log \\sum_k f(x_i; \\vec{\\theta}_k)\\right]$$\n",
    "This uses an incorrect assumption that the $x_i$ are all independent. In principle, the $x_i$ should follow the Bethe-Bloch curve as each subsequent $x_i$ corresponds to an energy loss from a muon of slightly lower kinetic energy. Corrections for this effect will be implemented later. Then the matter of maximizing the likelihood is akin to selecting energy bin $j$ with the highest $\\mathscr{L}$."
   ]
  },
  {
   "cell_type": "code",
   "execution_count": 67,
   "id": "76d290d4-7660-4a47-b448-452aa0f63c4f",
   "metadata": {},
   "outputs": [],
   "source": [
    "def like_max(dedxs):\n",
    "    landau_params = np.array([ fitdata.iloc[i][:3] for i in range(fitdata.shape[0]) ])\n",
    "    \n",
    "    # One big list comprehension for maximum calculation speed\n",
    "    loglike = np.array([ np.sum([ np.log(langau_pdf(xi, *fj_params)) - np.log(np.sum([ langau_pdf(xi, *fk_params) for fk_params in landau_params])) for xi in dedxs ]) for fj_params in landau_params])\n",
    "    \n",
    "    jtilde = np.argmax(loglike)\n",
    "    e_min_tilde, e_max_tilde = fitdata.iloc[jtilde,-2:]\n",
    "    return e_min_tilde, e_max_tilde, loglike"
   ]
  },
  {
   "cell_type": "code",
   "execution_count": 68,
   "id": "8265ce6b-c1e2-4ab1-bd0f-b2ffa9152bef",
   "metadata": {},
   "outputs": [],
   "source": [
    "def reconstruct_e(muon):  \n",
    "    es, dedxs = cer.generate_eloss(muon)\n",
    "    e_min_tilde, e_max_tilde, loglike = like_max(dedxs)\n",
    "    return e_min_tilde, e_max_tilde, loglike"
   ]
  },
  {
   "cell_type": "code",
   "execution_count": 113,
   "id": "dbb8b405-78d6-4d52-9b35-97956a182439",
   "metadata": {},
   "outputs": [
    {
     "name": "stdout",
     "output_type": "stream",
     "text": [
      "Generating elosses and reconstructing energy...\n",
      "0%   \r"
     ]
    },
    {
     "ename": "KeyboardInterrupt",
     "evalue": "",
     "output_type": "error",
     "traceback": [
      "\u001b[0;31m---------------------------------------------------------------------------\u001b[0m",
      "\u001b[0;31mKeyboardInterrupt\u001b[0m                         Traceback (most recent call last)",
      "\u001b[0;32m<ipython-input-113-dfee3b9e112e>\u001b[0m in \u001b[0;36m<module>\u001b[0;34m\u001b[0m\n\u001b[1;32m     17\u001b[0m \u001b[0;34m\u001b[0m\u001b[0m\n\u001b[1;32m     18\u001b[0m     \u001b[0mp_count\u001b[0m \u001b[0;34m+=\u001b[0m \u001b[0;36m1\u001b[0m\u001b[0;34m\u001b[0m\u001b[0;34m\u001b[0m\u001b[0m\n\u001b[0;32m---> 19\u001b[0;31m     \u001b[0me_min\u001b[0m\u001b[0;34m,\u001b[0m \u001b[0me_max\u001b[0m\u001b[0;34m,\u001b[0m \u001b[0mloglike\u001b[0m \u001b[0;34m=\u001b[0m \u001b[0mreconstruct_e\u001b[0m\u001b[0;34m(\u001b[0m\u001b[0mmuon\u001b[0m\u001b[0;34m)\u001b[0m\u001b[0;34m\u001b[0m\u001b[0;34m\u001b[0m\u001b[0m\n\u001b[0m\u001b[1;32m     20\u001b[0m \u001b[0;34m\u001b[0m\u001b[0m\n\u001b[1;32m     21\u001b[0m     \u001b[0mtrue_e\u001b[0m \u001b[0;34m=\u001b[0m \u001b[0mmuon\u001b[0m\u001b[0;34m[\u001b[0m\u001b[0;34m'backtracked_e'\u001b[0m\u001b[0;34m]\u001b[0m\u001b[0;34m\u001b[0m\u001b[0;34m\u001b[0m\u001b[0m\n",
      "\u001b[0;32m<ipython-input-68-ca71d0099bbb>\u001b[0m in \u001b[0;36mreconstruct_e\u001b[0;34m(muon)\u001b[0m\n\u001b[1;32m      1\u001b[0m \u001b[0;32mdef\u001b[0m \u001b[0mreconstruct_e\u001b[0m\u001b[0;34m(\u001b[0m\u001b[0mmuon\u001b[0m\u001b[0;34m)\u001b[0m\u001b[0;34m:\u001b[0m\u001b[0;34m\u001b[0m\u001b[0;34m\u001b[0m\u001b[0m\n\u001b[1;32m      2\u001b[0m     \u001b[0mes\u001b[0m\u001b[0;34m,\u001b[0m \u001b[0mdedxs\u001b[0m \u001b[0;34m=\u001b[0m \u001b[0mcer\u001b[0m\u001b[0;34m.\u001b[0m\u001b[0mgenerate_eloss\u001b[0m\u001b[0;34m(\u001b[0m\u001b[0mmuon\u001b[0m\u001b[0;34m)\u001b[0m\u001b[0;34m\u001b[0m\u001b[0;34m\u001b[0m\u001b[0m\n\u001b[0;32m----> 3\u001b[0;31m     \u001b[0me_min_tilde\u001b[0m\u001b[0;34m,\u001b[0m \u001b[0me_max_tilde\u001b[0m\u001b[0;34m,\u001b[0m \u001b[0mloglike\u001b[0m \u001b[0;34m=\u001b[0m \u001b[0mlike_max\u001b[0m\u001b[0;34m(\u001b[0m\u001b[0mdedxs\u001b[0m\u001b[0;34m)\u001b[0m\u001b[0;34m\u001b[0m\u001b[0;34m\u001b[0m\u001b[0m\n\u001b[0m\u001b[1;32m      4\u001b[0m     \u001b[0;32mreturn\u001b[0m \u001b[0me_min_tilde\u001b[0m\u001b[0;34m,\u001b[0m \u001b[0me_max_tilde\u001b[0m\u001b[0;34m,\u001b[0m \u001b[0mloglike\u001b[0m\u001b[0;34m\u001b[0m\u001b[0;34m\u001b[0m\u001b[0m\n",
      "\u001b[0;32m<ipython-input-67-50f47ec5c96f>\u001b[0m in \u001b[0;36mlike_max\u001b[0;34m(dedxs)\u001b[0m\n\u001b[1;32m      3\u001b[0m \u001b[0;34m\u001b[0m\u001b[0m\n\u001b[1;32m      4\u001b[0m     \u001b[0;31m# One big list comprehension for maximum calculation speed\u001b[0m\u001b[0;34m\u001b[0m\u001b[0;34m\u001b[0m\u001b[0;34m\u001b[0m\u001b[0m\n\u001b[0;32m----> 5\u001b[0;31m     \u001b[0mloglike\u001b[0m \u001b[0;34m=\u001b[0m \u001b[0mnp\u001b[0m\u001b[0;34m.\u001b[0m\u001b[0marray\u001b[0m\u001b[0;34m(\u001b[0m\u001b[0;34m[\u001b[0m \u001b[0mnp\u001b[0m\u001b[0;34m.\u001b[0m\u001b[0msum\u001b[0m\u001b[0;34m(\u001b[0m\u001b[0;34m[\u001b[0m \u001b[0mnp\u001b[0m\u001b[0;34m.\u001b[0m\u001b[0mlog\u001b[0m\u001b[0;34m(\u001b[0m\u001b[0mlangau_pdf\u001b[0m\u001b[0;34m(\u001b[0m\u001b[0mxi\u001b[0m\u001b[0;34m,\u001b[0m \u001b[0;34m*\u001b[0m\u001b[0mfj_params\u001b[0m\u001b[0;34m)\u001b[0m\u001b[0;34m)\u001b[0m \u001b[0;34m-\u001b[0m \u001b[0mnp\u001b[0m\u001b[0;34m.\u001b[0m\u001b[0mlog\u001b[0m\u001b[0;34m(\u001b[0m\u001b[0mnp\u001b[0m\u001b[0;34m.\u001b[0m\u001b[0msum\u001b[0m\u001b[0;34m(\u001b[0m\u001b[0;34m[\u001b[0m \u001b[0mlangau_pdf\u001b[0m\u001b[0;34m(\u001b[0m\u001b[0mxi\u001b[0m\u001b[0;34m,\u001b[0m \u001b[0;34m*\u001b[0m\u001b[0mfk_params\u001b[0m\u001b[0;34m)\u001b[0m \u001b[0;32mfor\u001b[0m \u001b[0mfk_params\u001b[0m \u001b[0;32min\u001b[0m \u001b[0mlandau_params\u001b[0m\u001b[0;34m]\u001b[0m\u001b[0;34m)\u001b[0m\u001b[0;34m)\u001b[0m \u001b[0;32mfor\u001b[0m \u001b[0mxi\u001b[0m \u001b[0;32min\u001b[0m \u001b[0mdedxs\u001b[0m \u001b[0;34m]\u001b[0m\u001b[0;34m)\u001b[0m \u001b[0;32mfor\u001b[0m \u001b[0mfj_params\u001b[0m \u001b[0;32min\u001b[0m \u001b[0mlandau_params\u001b[0m\u001b[0;34m]\u001b[0m\u001b[0;34m)\u001b[0m\u001b[0;34m\u001b[0m\u001b[0;34m\u001b[0m\u001b[0m\n\u001b[0m\u001b[1;32m      6\u001b[0m \u001b[0;34m\u001b[0m\u001b[0m\n\u001b[1;32m      7\u001b[0m     \u001b[0mjtilde\u001b[0m \u001b[0;34m=\u001b[0m \u001b[0mnp\u001b[0m\u001b[0;34m.\u001b[0m\u001b[0margmax\u001b[0m\u001b[0;34m(\u001b[0m\u001b[0mloglike\u001b[0m\u001b[0;34m)\u001b[0m\u001b[0;34m\u001b[0m\u001b[0;34m\u001b[0m\u001b[0m\n",
      "\u001b[0;32m<ipython-input-67-50f47ec5c96f>\u001b[0m in \u001b[0;36m<listcomp>\u001b[0;34m(.0)\u001b[0m\n\u001b[1;32m      3\u001b[0m \u001b[0;34m\u001b[0m\u001b[0m\n\u001b[1;32m      4\u001b[0m     \u001b[0;31m# One big list comprehension for maximum calculation speed\u001b[0m\u001b[0;34m\u001b[0m\u001b[0;34m\u001b[0m\u001b[0;34m\u001b[0m\u001b[0m\n\u001b[0;32m----> 5\u001b[0;31m     \u001b[0mloglike\u001b[0m \u001b[0;34m=\u001b[0m \u001b[0mnp\u001b[0m\u001b[0;34m.\u001b[0m\u001b[0marray\u001b[0m\u001b[0;34m(\u001b[0m\u001b[0;34m[\u001b[0m \u001b[0mnp\u001b[0m\u001b[0;34m.\u001b[0m\u001b[0msum\u001b[0m\u001b[0;34m(\u001b[0m\u001b[0;34m[\u001b[0m \u001b[0mnp\u001b[0m\u001b[0;34m.\u001b[0m\u001b[0mlog\u001b[0m\u001b[0;34m(\u001b[0m\u001b[0mlangau_pdf\u001b[0m\u001b[0;34m(\u001b[0m\u001b[0mxi\u001b[0m\u001b[0;34m,\u001b[0m \u001b[0;34m*\u001b[0m\u001b[0mfj_params\u001b[0m\u001b[0;34m)\u001b[0m\u001b[0;34m)\u001b[0m \u001b[0;34m-\u001b[0m \u001b[0mnp\u001b[0m\u001b[0;34m.\u001b[0m\u001b[0mlog\u001b[0m\u001b[0;34m(\u001b[0m\u001b[0mnp\u001b[0m\u001b[0;34m.\u001b[0m\u001b[0msum\u001b[0m\u001b[0;34m(\u001b[0m\u001b[0;34m[\u001b[0m \u001b[0mlangau_pdf\u001b[0m\u001b[0;34m(\u001b[0m\u001b[0mxi\u001b[0m\u001b[0;34m,\u001b[0m \u001b[0;34m*\u001b[0m\u001b[0mfk_params\u001b[0m\u001b[0;34m)\u001b[0m \u001b[0;32mfor\u001b[0m \u001b[0mfk_params\u001b[0m \u001b[0;32min\u001b[0m \u001b[0mlandau_params\u001b[0m\u001b[0;34m]\u001b[0m\u001b[0;34m)\u001b[0m\u001b[0;34m)\u001b[0m \u001b[0;32mfor\u001b[0m \u001b[0mxi\u001b[0m \u001b[0;32min\u001b[0m \u001b[0mdedxs\u001b[0m \u001b[0;34m]\u001b[0m\u001b[0;34m)\u001b[0m \u001b[0;32mfor\u001b[0m \u001b[0mfj_params\u001b[0m \u001b[0;32min\u001b[0m \u001b[0mlandau_params\u001b[0m\u001b[0;34m]\u001b[0m\u001b[0;34m)\u001b[0m\u001b[0;34m\u001b[0m\u001b[0;34m\u001b[0m\u001b[0m\n\u001b[0m\u001b[1;32m      6\u001b[0m \u001b[0;34m\u001b[0m\u001b[0m\n\u001b[1;32m      7\u001b[0m     \u001b[0mjtilde\u001b[0m \u001b[0;34m=\u001b[0m \u001b[0mnp\u001b[0m\u001b[0;34m.\u001b[0m\u001b[0margmax\u001b[0m\u001b[0;34m(\u001b[0m\u001b[0mloglike\u001b[0m\u001b[0;34m)\u001b[0m\u001b[0;34m\u001b[0m\u001b[0;34m\u001b[0m\u001b[0m\n",
      "\u001b[0;32m<ipython-input-67-50f47ec5c96f>\u001b[0m in \u001b[0;36m<listcomp>\u001b[0;34m(.0)\u001b[0m\n\u001b[1;32m      3\u001b[0m \u001b[0;34m\u001b[0m\u001b[0m\n\u001b[1;32m      4\u001b[0m     \u001b[0;31m# One big list comprehension for maximum calculation speed\u001b[0m\u001b[0;34m\u001b[0m\u001b[0;34m\u001b[0m\u001b[0;34m\u001b[0m\u001b[0m\n\u001b[0;32m----> 5\u001b[0;31m     \u001b[0mloglike\u001b[0m \u001b[0;34m=\u001b[0m \u001b[0mnp\u001b[0m\u001b[0;34m.\u001b[0m\u001b[0marray\u001b[0m\u001b[0;34m(\u001b[0m\u001b[0;34m[\u001b[0m \u001b[0mnp\u001b[0m\u001b[0;34m.\u001b[0m\u001b[0msum\u001b[0m\u001b[0;34m(\u001b[0m\u001b[0;34m[\u001b[0m \u001b[0mnp\u001b[0m\u001b[0;34m.\u001b[0m\u001b[0mlog\u001b[0m\u001b[0;34m(\u001b[0m\u001b[0mlangau_pdf\u001b[0m\u001b[0;34m(\u001b[0m\u001b[0mxi\u001b[0m\u001b[0;34m,\u001b[0m \u001b[0;34m*\u001b[0m\u001b[0mfj_params\u001b[0m\u001b[0;34m)\u001b[0m\u001b[0;34m)\u001b[0m \u001b[0;34m-\u001b[0m \u001b[0mnp\u001b[0m\u001b[0;34m.\u001b[0m\u001b[0mlog\u001b[0m\u001b[0;34m(\u001b[0m\u001b[0mnp\u001b[0m\u001b[0;34m.\u001b[0m\u001b[0msum\u001b[0m\u001b[0;34m(\u001b[0m\u001b[0;34m[\u001b[0m \u001b[0mlangau_pdf\u001b[0m\u001b[0;34m(\u001b[0m\u001b[0mxi\u001b[0m\u001b[0;34m,\u001b[0m \u001b[0;34m*\u001b[0m\u001b[0mfk_params\u001b[0m\u001b[0;34m)\u001b[0m \u001b[0;32mfor\u001b[0m \u001b[0mfk_params\u001b[0m \u001b[0;32min\u001b[0m \u001b[0mlandau_params\u001b[0m\u001b[0;34m]\u001b[0m\u001b[0;34m)\u001b[0m\u001b[0;34m)\u001b[0m \u001b[0;32mfor\u001b[0m \u001b[0mxi\u001b[0m \u001b[0;32min\u001b[0m \u001b[0mdedxs\u001b[0m \u001b[0;34m]\u001b[0m\u001b[0;34m)\u001b[0m \u001b[0;32mfor\u001b[0m \u001b[0mfj_params\u001b[0m \u001b[0;32min\u001b[0m \u001b[0mlandau_params\u001b[0m\u001b[0;34m]\u001b[0m\u001b[0;34m)\u001b[0m\u001b[0;34m\u001b[0m\u001b[0;34m\u001b[0m\u001b[0m\n\u001b[0m\u001b[1;32m      6\u001b[0m \u001b[0;34m\u001b[0m\u001b[0m\n\u001b[1;32m      7\u001b[0m     \u001b[0mjtilde\u001b[0m \u001b[0;34m=\u001b[0m \u001b[0mnp\u001b[0m\u001b[0;34m.\u001b[0m\u001b[0margmax\u001b[0m\u001b[0;34m(\u001b[0m\u001b[0mloglike\u001b[0m\u001b[0;34m)\u001b[0m\u001b[0;34m\u001b[0m\u001b[0;34m\u001b[0m\u001b[0m\n",
      "\u001b[0;32m<ipython-input-67-50f47ec5c96f>\u001b[0m in \u001b[0;36m<listcomp>\u001b[0;34m(.0)\u001b[0m\n\u001b[1;32m      3\u001b[0m \u001b[0;34m\u001b[0m\u001b[0m\n\u001b[1;32m      4\u001b[0m     \u001b[0;31m# One big list comprehension for maximum calculation speed\u001b[0m\u001b[0;34m\u001b[0m\u001b[0;34m\u001b[0m\u001b[0;34m\u001b[0m\u001b[0m\n\u001b[0;32m----> 5\u001b[0;31m     \u001b[0mloglike\u001b[0m \u001b[0;34m=\u001b[0m \u001b[0mnp\u001b[0m\u001b[0;34m.\u001b[0m\u001b[0marray\u001b[0m\u001b[0;34m(\u001b[0m\u001b[0;34m[\u001b[0m \u001b[0mnp\u001b[0m\u001b[0;34m.\u001b[0m\u001b[0msum\u001b[0m\u001b[0;34m(\u001b[0m\u001b[0;34m[\u001b[0m \u001b[0mnp\u001b[0m\u001b[0;34m.\u001b[0m\u001b[0mlog\u001b[0m\u001b[0;34m(\u001b[0m\u001b[0mlangau_pdf\u001b[0m\u001b[0;34m(\u001b[0m\u001b[0mxi\u001b[0m\u001b[0;34m,\u001b[0m \u001b[0;34m*\u001b[0m\u001b[0mfj_params\u001b[0m\u001b[0;34m)\u001b[0m\u001b[0;34m)\u001b[0m \u001b[0;34m-\u001b[0m \u001b[0mnp\u001b[0m\u001b[0;34m.\u001b[0m\u001b[0mlog\u001b[0m\u001b[0;34m(\u001b[0m\u001b[0mnp\u001b[0m\u001b[0;34m.\u001b[0m\u001b[0msum\u001b[0m\u001b[0;34m(\u001b[0m\u001b[0;34m[\u001b[0m \u001b[0mlangau_pdf\u001b[0m\u001b[0;34m(\u001b[0m\u001b[0mxi\u001b[0m\u001b[0;34m,\u001b[0m \u001b[0;34m*\u001b[0m\u001b[0mfk_params\u001b[0m\u001b[0;34m)\u001b[0m \u001b[0;32mfor\u001b[0m \u001b[0mfk_params\u001b[0m \u001b[0;32min\u001b[0m \u001b[0mlandau_params\u001b[0m\u001b[0;34m]\u001b[0m\u001b[0;34m)\u001b[0m\u001b[0;34m)\u001b[0m \u001b[0;32mfor\u001b[0m \u001b[0mxi\u001b[0m \u001b[0;32min\u001b[0m \u001b[0mdedxs\u001b[0m \u001b[0;34m]\u001b[0m\u001b[0;34m)\u001b[0m \u001b[0;32mfor\u001b[0m \u001b[0mfj_params\u001b[0m \u001b[0;32min\u001b[0m \u001b[0mlandau_params\u001b[0m\u001b[0;34m]\u001b[0m\u001b[0;34m)\u001b[0m\u001b[0;34m\u001b[0m\u001b[0;34m\u001b[0m\u001b[0m\n\u001b[0m\u001b[1;32m      6\u001b[0m \u001b[0;34m\u001b[0m\u001b[0m\n\u001b[1;32m      7\u001b[0m     \u001b[0mjtilde\u001b[0m \u001b[0;34m=\u001b[0m \u001b[0mnp\u001b[0m\u001b[0;34m.\u001b[0m\u001b[0margmax\u001b[0m\u001b[0;34m(\u001b[0m\u001b[0mloglike\u001b[0m\u001b[0;34m)\u001b[0m\u001b[0;34m\u001b[0m\u001b[0;34m\u001b[0m\u001b[0m\n",
      "\u001b[0;32m<ipython-input-4-930651be1144>\u001b[0m in \u001b[0;36mlangau_pdf\u001b[0;34m(dedx, mpv, eta, sig)\u001b[0m\n\u001b[1;32m      1\u001b[0m \u001b[0;32mdef\u001b[0m \u001b[0mlangau_pdf\u001b[0m\u001b[0;34m(\u001b[0m\u001b[0mdedx\u001b[0m\u001b[0;34m,\u001b[0m \u001b[0mmpv\u001b[0m\u001b[0;34m,\u001b[0m \u001b[0meta\u001b[0m\u001b[0;34m,\u001b[0m \u001b[0msig\u001b[0m\u001b[0;34m)\u001b[0m\u001b[0;34m:\u001b[0m\u001b[0;34m\u001b[0m\u001b[0;34m\u001b[0m\u001b[0m\n\u001b[0;32m----> 2\u001b[0;31m     \u001b[0;32mreturn\u001b[0m \u001b[0meta\u001b[0m \u001b[0;34m*\u001b[0m \u001b[0mpylandau\u001b[0m\u001b[0;34m.\u001b[0m\u001b[0mget_langau_pdf\u001b[0m\u001b[0;34m(\u001b[0m\u001b[0mdedx\u001b[0m\u001b[0;34m,\u001b[0m \u001b[0mmpv\u001b[0m\u001b[0;34m,\u001b[0m \u001b[0meta\u001b[0m\u001b[0;34m,\u001b[0m \u001b[0msig\u001b[0m\u001b[0;34m)\u001b[0m\u001b[0;34m\u001b[0m\u001b[0;34m\u001b[0m\u001b[0m\n\u001b[0m",
      "\u001b[0;31mKeyboardInterrupt\u001b[0m: "
     ]
    }
   ],
   "source": [
    "truth = []\n",
    "reconstructed = []\n",
    "loglikes = []\n",
    "p_count = 0\n",
    "\n",
    "tot_particles = len(muons)\n",
    "pcnt_per_count = 100./tot_particles\n",
    "count_per_pcnt = 1/pcnt_per_count\n",
    "running_count_for_pcnt_increment = 0\n",
    "\n",
    "print(\"Generating elosses and reconstructing energy...\")\n",
    "start = time.perf_counter()\n",
    "for muon in cer.muons:\n",
    "    if p_count > running_count_for_pcnt_increment:\n",
    "        print(f\"{(running_count_for_pcnt_increment / tot_particles)*100:.0f}%   \", end = '\\r', flush=True)\n",
    "        running_count_for_pcnt_increment += count_per_pcnt\n",
    "        \n",
    "    p_count += 1\n",
    "    e_min, e_max, loglike = reconstruct_e(muon)\n",
    "    \n",
    "    true_e = muon['backtracked_e']\n",
    "    truth.append(true_e)\n",
    "    \n",
    "    guess_e = (e_min, e_max)\n",
    "    reconstructed.append(guess_e)\n",
    "    loglikes.append(loglike)\n",
    "    \n",
    "end = time.perf_counter()\n",
    "t = end-start\n",
    "print(f\"Done! Analysis time: {int(t//60)}m {t%60:0.1f}s\")"
   ]
  },
  {
   "cell_type": "code",
   "execution_count": 111,
   "id": "5d085cdc-622a-42d6-b393-e013c5f0e377",
   "metadata": {},
   "outputs": [],
   "source": [
    "like_data_dict = []\n",
    "for i in range(len(truth)):\n",
    "    t = truth[i]\n",
    "    re_min = reconstructed[i][0]\n",
    "    re_max = reconstructed[i][1]\n",
    "    \n",
    "    this_dict = {'truth': t, 'reconstructed_min': re_min, 'reconstructed_max': re_max}\n",
    "    \n",
    "    for j in range(len(loglikes[i])):\n",
    "        like = loglikes[i][j]\n",
    "        this_dict[f'L{j}'] = like\n",
    "    \n",
    "    like_data_dict.append(this_dict)\n",
    "    \n",
    "like_data = pd.DataFrame.from_dict(like_data_dict)"
   ]
  },
  {
   "cell_type": "code",
   "execution_count": 112,
   "id": "f27e929b-ef6b-4d3d-b726-1247ba7af88d",
   "metadata": {},
   "outputs": [],
   "source": [
    "like_data.to_csv(r'./data/stat_binned_likelihood_data.csv', index=False, header=True)"
   ]
  },
  {
   "cell_type": "markdown",
   "id": "a9fad6f5-195f-4a09-a8ab-6fa855d4db35",
   "metadata": {},
   "source": [
    "## Analytic Likelihood\n",
    "\n",
    "I will attempt to construct an analytic likelihood function based on the theoretical MPV values found in `Fit.ipynb` as well as the assumption that the Langau spreads $\\eta$ and $\\sigma$ are independent of muon energy (which they are, for the most part, although I am not sure of the theoretical prediction). The only value that will end up depending on the energy of the incoming muon is the MPV, which will be the parameter we minimize over. We must assume some uniform $\\sigma$ and $\\eta$, and I will just select the quadrature means of the fixed-width langau fits from before. I am not certain that this choice is robust, however perhaps there is some theory to work with for these values later down the line.\n",
    "\n",
    "$$\\mathscr{L}_i=f\\left(x_i; \\frac{\\Delta_p}{dx}(E, \\Delta p_i), \\eta(E, \\Delta p_i), \\sigma(E, \\Delta p_i)\\right)$$\n",
    "where $\\Delta p=\\frac{0.3\\,\\text{cm}}{\\cos(\\gamma)}$ is the pitch, $E$ is the true energy, and $\\frac{\\Delta_p}{dx}, \\eta, \\sigma$ are the MPV, Landau FWHM, and Gaussian width of the Langau. We expect that the $E$ should also be subscripted $i$ as the true energy changes with each energy loss but for now we continue to approximate the true energy as constant:\n",
    "$$-\\ln(\\mathscr{L}(E))=-\\sum_i \\ln\\left(f\\left[x_i; \\frac{\\Delta_p}{dx}(E, \\Delta p_i), \\eta(E, \\Delta p_i), \\sigma(E, \\Delta p_i)\\right]\\right)$$\n",
    "I imagine that this is highly computationally expensive --- there may be some trick to lower the computational difficulty by utilizing the Laplace Transform (since $f=L\\{s^s\\}$)."
   ]
  },
  {
   "cell_type": "markdown",
   "id": "6041bb24-94ee-4ff4-9da2-cab6a8a2e73e",
   "metadata": {},
   "source": [
    "Load stand-in $\\eta$, $\\sigma$:"
   ]
  },
  {
   "cell_type": "code",
   "execution_count": 3,
   "id": "7d0d4a59-27a6-4014-9cb1-09b5eb6332d6",
   "metadata": {},
   "outputs": [],
   "source": [
    "import pandas as pd\n",
    "fit_data_loc = r'./data/stat_fixedwidth_fit_data_full.csv'\n",
    "fitdf = pd.read_csv(fit_data_loc)\n",
    "eta = fitdf.eta[0]\n",
    "sig = fitdf.sigma[0]"
   ]
  },
  {
   "cell_type": "code",
   "execution_count": 5,
   "id": "bc581b1d-679a-48c2-8cf4-e793031a7171",
   "metadata": {},
   "outputs": [],
   "source": [
    "from util.theory import *\n",
    "\n",
    "def analnegloglike(e, dedxs, pitches=[], eta=eta, sig=sig):\n",
    "    mpv = dpdx(e-Mmu, thickness , Mmu)"
   ]
  },
  {
   "cell_type": "code",
   "execution_count": null,
   "id": "c7b48870-49ab-4479-a5cb-69641b420b89",
   "metadata": {},
   "outputs": [],
   "source": []
  }
 ],
 "metadata": {
  "kernelspec": {
   "display_name": "Python 3",
   "language": "python",
   "name": "python3"
  },
  "language_info": {
   "codemirror_mode": {
    "name": "ipython",
    "version": 3
   },
   "file_extension": ".py",
   "mimetype": "text/x-python",
   "name": "python",
   "nbconvert_exporter": "python",
   "pygments_lexer": "ipython3",
   "version": "3.6.9"
  }
 },
 "nbformat": 4,
 "nbformat_minor": 5
}
