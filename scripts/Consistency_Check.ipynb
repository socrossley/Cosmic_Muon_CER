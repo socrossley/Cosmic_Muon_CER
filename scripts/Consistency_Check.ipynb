{
 "cells": [
  {
   "cell_type": "code",
   "execution_count": 12,
   "id": "bd4b47f0-f460-4464-8b17-9fa1093a3d5b",
   "metadata": {},
   "outputs": [],
   "source": [
    "first_run = True"
   ]
  },
  {
   "cell_type": "code",
   "execution_count": 15,
   "id": "b30ae0a7-8300-4420-9a37-c3e2aac741ec",
   "metadata": {},
   "outputs": [],
   "source": [
    "if first_run: \n",
    "    import sys\n",
    "    from os.path import realpath, dirname\n",
    "    sys.path.insert(0, dirname(realpath('')))\n",
    "    first_run = False"
   ]
  },
  {
   "cell_type": "code",
   "execution_count": 86,
   "id": "7c25817d-1bd7-4bb1-acbe-948a889bbe83",
   "metadata": {},
   "outputs": [],
   "source": [
    "import pandas as pd\n",
    "import numpy as np\n",
    "import matplotlib.pyplot as plt\n",
    "from util import theory\n",
    "import reconstruct\n",
    "from importlib import reload\n",
    "reconstruct = reload(reconstruct)"
   ]
  },
  {
   "cell_type": "code",
   "execution_count": 1,
   "id": "c6285572-8a82-468b-a98d-769964577621",
   "metadata": {},
   "outputs": [],
   "source": [
    "from pathlib import Path"
   ]
  },
  {
   "cell_type": "code",
   "execution_count": 17,
   "id": "ab12676f-b058-4381-8947-792e285c6990",
   "metadata": {},
   "outputs": [
    {
     "data": {
      "text/plain": [
       "PosixPath('/mnt/c/Users/Sam Crossley/Documents/Research/Cosmic_Muon_CER')"
      ]
     },
     "execution_count": 17,
     "metadata": {},
     "output_type": "execute_result"
    }
   ],
   "source": [
    "directory = Path.cwd()\n",
    "directory.parents[0]"
   ]
  }
 ],
 "metadata": {
  "kernelspec": {
   "display_name": "Python 3",
   "language": "python",
   "name": "python3"
  },
  "language_info": {
   "codemirror_mode": {
    "name": "ipython",
    "version": 3
   },
   "file_extension": ".py",
   "mimetype": "text/x-python",
   "name": "python",
   "nbconvert_exporter": "python",
   "pygments_lexer": "ipython3",
   "version": "3.6.9"
  }
 },
 "nbformat": 4,
 "nbformat_minor": 5
}
