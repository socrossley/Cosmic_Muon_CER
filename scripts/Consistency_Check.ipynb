{
 "cells": [
  {
   "cell_type": "code",
   "execution_count": 12,
   "id": "bd4b47f0-f460-4464-8b17-9fa1093a3d5b",
   "metadata": {},
   "outputs": [],
   "source": [
    "first_run = True"
   ]
  },
  {
   "cell_type": "code",
   "execution_count": 15,
   "id": "b30ae0a7-8300-4420-9a37-c3e2aac741ec",
   "metadata": {},
   "outputs": [],
   "source": [
    "if first_run: \n",
    "    import sys\n",
    "    from os.path import realpath, dirname\n",
    "    sys.path.insert(0, dirname(realpath('')))\n",
    "    first_run = False"
   ]
  },
  {
   "cell_type": "code",
   "execution_count": 86,
   "id": "7c25817d-1bd7-4bb1-acbe-948a889bbe83",
   "metadata": {},
   "outputs": [],
   "source": [
    "import pandas as pd\n",
    "import numpy as np\n",
    "import matplotlib.pyplot as plt\n",
    "from util import theory\n",
    "import reconstruct\n",
    "from importlib import reload\n",
    "reconstruct = reload(reconstruct)"
   ]
  },
  {
   "cell_type": "code",
   "execution_count": 2,
   "id": "c6285572-8a82-468b-a98d-769964577621",
   "metadata": {},
   "outputs": [],
   "source": [
    "from pathlib import Path"
   ]
  },
  {
   "cell_type": "code",
   "execution_count": 23,
   "id": "ab12676f-b058-4381-8947-792e285c6990",
   "metadata": {},
   "outputs": [],
   "source": [
    "directory = Path.cwd().parent\n",
    "util_dir = directory / 'util'"
   ]
  },
  {
   "cell_type": "code",
   "execution_count": 25,
   "id": "e4d5c114-8768-4b31-9c7b-484c7a53b8b1",
   "metadata": {},
   "outputs": [
    {
     "data": {
      "text/plain": [
       "['/home/samcrossley/root/lib',\n",
       " '/home/samcrossley/anaconda3/envs/pyRoot/lib/python36.zip',\n",
       " '/home/samcrossley/anaconda3/envs/pyRoot/lib/python3.6',\n",
       " '/home/samcrossley/anaconda3/envs/pyRoot/lib/python3.6/lib-dynload',\n",
       " '',\n",
       " '/home/samcrossley/anaconda3/envs/pyRoot/lib/python3.6/site-packages',\n",
       " '/home/samcrossley/anaconda3/envs/pyRoot/lib/python3.6/site-packages/IPython/extensions',\n",
       " '/home/samcrossley/.ipython',\n",
       " '/mnt/c/Users/Sam Crossley/Documents/Research/Cosmic_Muon_CER/util']"
      ]
     },
     "execution_count": 25,
     "metadata": {},
     "output_type": "execute_result"
    }
   ],
   "source": [
    "import sys\n",
    "sys.path"
   ]
  },
  {
   "cell_type": "code",
   "execution_count": 24,
   "id": "f28b34aa-0207-4de8-8468-d0d5060cc049",
   "metadata": {},
   "outputs": [],
   "source": [
    "sys.path.append(str(util_dir))"
   ]
  },
  {
   "cell_type": "code",
   "execution_count": 37,
   "id": "94f7ee2f-9770-45ef-811d-ace4e00c028e",
   "metadata": {},
   "outputs": [
    {
     "name": "stdout",
     "output_type": "stream",
     "text": [
      "/mnt/c/Users/Sam Crossley/Documents/Research/Cosmic_Muon_CER/data\n"
     ]
    },
    {
     "ename": "ModuleNotFoundError",
     "evalue": "No module named 'util'",
     "output_type": "error",
     "traceback": [
      "\u001b[0;31m---------------------------------------------------------------------------\u001b[0m",
      "\u001b[0;31mModuleNotFoundError\u001b[0m                       Traceback (most recent call last)",
      "\u001b[0;32m<ipython-input-37-793b629d8dd2>\u001b[0m in \u001b[0;36m<module>\u001b[0;34m\u001b[0m\n\u001b[0;32m----> 1\u001b[0;31m \u001b[0;32mimport\u001b[0m \u001b[0mcer_util\u001b[0m\u001b[0;34m\u001b[0m\u001b[0;34m\u001b[0m\u001b[0m\n\u001b[0m",
      "\u001b[0;32m/mnt/c/Users/Sam Crossley/Documents/Research/Cosmic_Muon_CER/util/cer_util.py\u001b[0m in \u001b[0;36m<module>\u001b[0;34m\u001b[0m\n\u001b[1;32m      8\u001b[0m \u001b[0;32mfrom\u001b[0m \u001b[0mos\u001b[0m\u001b[0;34m.\u001b[0m\u001b[0mpath\u001b[0m \u001b[0;32mimport\u001b[0m \u001b[0mrealpath\u001b[0m\u001b[0;34m,\u001b[0m \u001b[0mdirname\u001b[0m\u001b[0;34m\u001b[0m\u001b[0;34m\u001b[0m\u001b[0m\n\u001b[1;32m      9\u001b[0m \u001b[0mparent\u001b[0m \u001b[0;34m=\u001b[0m \u001b[0mrealpath\u001b[0m\u001b[0;34m(\u001b[0m\u001b[0mdirname\u001b[0m\u001b[0;34m(\u001b[0m\u001b[0mrealpath\u001b[0m\u001b[0;34m(\u001b[0m\u001b[0mdirname\u001b[0m\u001b[0;34m(\u001b[0m\u001b[0mrealpath\u001b[0m\u001b[0;34m(\u001b[0m\u001b[0m__file__\u001b[0m\u001b[0;34m)\u001b[0m\u001b[0;34m)\u001b[0m\u001b[0;34m)\u001b[0m\u001b[0;34m)\u001b[0m\u001b[0;34m)\u001b[0m \u001b[0;31m# Don't mind this insanity\u001b[0m\u001b[0;34m\u001b[0m\u001b[0;34m\u001b[0m\u001b[0m\n\u001b[0;32m---> 10\u001b[0;31m \u001b[0;32mfrom\u001b[0m \u001b[0mutil\u001b[0m\u001b[0;34m.\u001b[0m\u001b[0mtheory\u001b[0m \u001b[0;32mimport\u001b[0m \u001b[0mlangau_pdf\u001b[0m\u001b[0;34m,\u001b[0m \u001b[0mdeltas\u001b[0m\u001b[0;34m\u001b[0m\u001b[0;34m\u001b[0m\u001b[0m\n\u001b[0m\u001b[1;32m     11\u001b[0m \u001b[0;34m\u001b[0m\u001b[0m\n\u001b[1;32m     12\u001b[0m \u001b[0;31m# This class is designed to contain a bunch of utility functions which make manipulating and analyzing the data easier\u001b[0m\u001b[0;34m\u001b[0m\u001b[0;34m\u001b[0m\u001b[0;34m\u001b[0m\u001b[0m\n",
      "\u001b[0;31mModuleNotFoundError\u001b[0m: No module named 'util'"
     ]
    }
   ],
   "source": [
    "import cer_util"
   ]
  },
  {
   "cell_type": "code",
   "execution_count": 31,
   "id": "678d20b0-cc50-4928-a514-a845b0b95103",
   "metadata": {},
   "outputs": [
    {
     "data": {
      "text/plain": [
       "['A',\n",
       " 'I',\n",
       " 'K',\n",
       " 'Me',\n",
       " 'Mmu',\n",
       " 'Wmax',\n",
       " 'Z',\n",
       " '__builtins__',\n",
       " '__cached__',\n",
       " '__doc__',\n",
       " '__file__',\n",
       " '__loader__',\n",
       " '__name__',\n",
       " '__package__',\n",
       " '__spec__',\n",
       " 'beta',\n",
       " 'contextlib',\n",
       " 'dedx',\n",
       " 'dedx_R',\n",
       " 'deltas',\n",
       " 'density',\n",
       " 'dpdx',\n",
       " 'gamma',\n",
       " 'langau_pdf',\n",
       " 'langauss',\n",
       " 'langauss_pdf',\n",
       " 'mpv_conv',\n",
       " 'np',\n",
       " 'pylandau',\n",
       " 'rho']"
      ]
     },
     "execution_count": 31,
     "metadata": {},
     "output_type": "execute_result"
    }
   ],
   "source": [
    "dir(theory)"
   ]
  },
  {
   "cell_type": "code",
   "execution_count": 38,
   "id": "886d10f8-f2bb-4156-840c-e86cdebcee21",
   "metadata": {},
   "outputs": [
    {
     "data": {
      "text/plain": [
       "['0p', '-0.5pb']"
      ]
     },
     "execution_count": 38,
     "metadata": {},
     "output_type": "execute_result"
    }
   ],
   "source": [
    "'0ps-0.5pb'.split('s')"
   ]
  },
  {
   "cell_type": "code",
   "execution_count": null,
   "id": "b51857f5-2e63-4b1e-a833-35fda9298f41",
   "metadata": {},
   "outputs": [],
   "source": []
  }
 ],
 "metadata": {
  "kernelspec": {
   "display_name": "Python 3",
   "language": "python",
   "name": "python3"
  },
  "language_info": {
   "codemirror_mode": {
    "name": "ipython",
    "version": 3
   },
   "file_extension": ".py",
   "mimetype": "text/x-python",
   "name": "python",
   "nbconvert_exporter": "python",
   "pygments_lexer": "ipython3",
   "version": "3.6.9"
  }
 },
 "nbformat": 4,
 "nbformat_minor": 5
}
